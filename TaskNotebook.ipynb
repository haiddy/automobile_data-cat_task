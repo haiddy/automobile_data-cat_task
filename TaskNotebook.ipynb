{
 "metadata": {
  "language_info": {
   "codemirror_mode": {
    "name": "ipython",
    "version": 3
   },
   "file_extension": ".py",
   "mimetype": "text/x-python",
   "name": "python",
   "nbconvert_exporter": "python",
   "pygments_lexer": "ipython3",
   "version": "3.8.8"
  },
  "orig_nbformat": 2,
  "kernelspec": {
   "name": "python388jvsc74a57bd060b25dd7f56d08ad99dba34064ade5242631d379958d1792fea95f3339282542",
   "display_name": "Python 3.8.8 64-bit"
  },
  "metadata": {
   "interpreter": {
    "hash": "60b25dd7f56d08ad99dba34064ade5242631d379958d1792fea95f3339282542"
   }
  }
 },
 "nbformat": 4,
 "nbformat_minor": 2,
 "cells": [
  {
   "cell_type": "code",
   "execution_count": 2,
   "metadata": {},
   "outputs": [],
   "source": [
    "import pandas as pd"
   ]
  },
  {
   "cell_type": "code",
   "execution_count": 99,
   "metadata": {},
   "outputs": [],
   "source": [
    "import matplotlib.pyplot as plt"
   ]
  },
  {
   "cell_type": "code",
   "execution_count": 3,
   "metadata": {},
   "outputs": [],
   "source": [
    "df = pd.read_csv('Automobile_data - Automobile_data.csv')"
   ]
  },
  {
   "cell_type": "code",
   "execution_count": 4,
   "metadata": {},
   "outputs": [
    {
     "output_type": "execute_result",
     "data": {
      "text/plain": [
       "     symboling normalized-losses         make fuel-type aspiration  \\\n",
       "0            3                 ?  alfa-romero       gas        std   \n",
       "1            3                 ?  alfa-romero       gas        std   \n",
       "2            1                 ?  alfa-romero       gas        std   \n",
       "3            2               164         audi       gas        std   \n",
       "4            2               164         audi       gas        std   \n",
       "..         ...               ...          ...       ...        ...   \n",
       "200         -1                95        volvo       gas        std   \n",
       "201         -1                95        volvo       gas      turbo   \n",
       "202         -1                95        volvo       gas        std   \n",
       "203         -1                95        volvo    diesel      turbo   \n",
       "204         -1                95        volvo       gas      turbo   \n",
       "\n",
       "    num-of-doors   body-style drive-wheels engine-location  wheel-base  ...  \\\n",
       "0            two  convertible          rwd           front        88.6  ...   \n",
       "1            two  convertible          rwd           front        88.6  ...   \n",
       "2            two    hatchback          rwd           front        94.5  ...   \n",
       "3           four        sedan          fwd           front        99.8  ...   \n",
       "4           four        sedan          4wd           front        99.4  ...   \n",
       "..           ...          ...          ...             ...         ...  ...   \n",
       "200         four        sedan          rwd           front       109.1  ...   \n",
       "201         four        sedan          rwd           front       109.1  ...   \n",
       "202         four        sedan          rwd           front       109.1  ...   \n",
       "203         four        sedan          rwd           front       109.1  ...   \n",
       "204         four        sedan          rwd           front       109.1  ...   \n",
       "\n",
       "     engine-size  fuel-system  bore  stroke compression-ratio horsepower  \\\n",
       "0            130         mpfi  3.47    2.68               9.0        111   \n",
       "1            130         mpfi  3.47    2.68               9.0        111   \n",
       "2            152         mpfi  2.68    3.47               9.0        154   \n",
       "3            109         mpfi  3.19     3.4              10.0        102   \n",
       "4            136         mpfi  3.19     3.4               8.0        115   \n",
       "..           ...          ...   ...     ...               ...        ...   \n",
       "200          141         mpfi  3.78    3.15               9.5        114   \n",
       "201          141         mpfi  3.78    3.15               8.7        160   \n",
       "202          173         mpfi  3.58    2.87               8.8        134   \n",
       "203          145          idi  3.01     3.4              23.0        106   \n",
       "204          141         mpfi  3.78    3.15               9.5        114   \n",
       "\n",
       "     peak-rpm city-mpg highway-mpg  price  \n",
       "0        5000       21          27  13495  \n",
       "1        5000       21          27  16500  \n",
       "2        5000       19          26  16500  \n",
       "3        5500       24          30  13950  \n",
       "4        5500       18          22  17450  \n",
       "..        ...      ...         ...    ...  \n",
       "200      5400       23          28  16845  \n",
       "201      5300       19          25  19045  \n",
       "202      5500       18          23  21485  \n",
       "203      4800       26          27  22470  \n",
       "204      5400       19          25  22625  \n",
       "\n",
       "[205 rows x 26 columns]"
      ],
      "text/html": "<div>\n<style scoped>\n    .dataframe tbody tr th:only-of-type {\n        vertical-align: middle;\n    }\n\n    .dataframe tbody tr th {\n        vertical-align: top;\n    }\n\n    .dataframe thead th {\n        text-align: right;\n    }\n</style>\n<table border=\"1\" class=\"dataframe\">\n  <thead>\n    <tr style=\"text-align: right;\">\n      <th></th>\n      <th>symboling</th>\n      <th>normalized-losses</th>\n      <th>make</th>\n      <th>fuel-type</th>\n      <th>aspiration</th>\n      <th>num-of-doors</th>\n      <th>body-style</th>\n      <th>drive-wheels</th>\n      <th>engine-location</th>\n      <th>wheel-base</th>\n      <th>...</th>\n      <th>engine-size</th>\n      <th>fuel-system</th>\n      <th>bore</th>\n      <th>stroke</th>\n      <th>compression-ratio</th>\n      <th>horsepower</th>\n      <th>peak-rpm</th>\n      <th>city-mpg</th>\n      <th>highway-mpg</th>\n      <th>price</th>\n    </tr>\n  </thead>\n  <tbody>\n    <tr>\n      <th>0</th>\n      <td>3</td>\n      <td>?</td>\n      <td>alfa-romero</td>\n      <td>gas</td>\n      <td>std</td>\n      <td>two</td>\n      <td>convertible</td>\n      <td>rwd</td>\n      <td>front</td>\n      <td>88.6</td>\n      <td>...</td>\n      <td>130</td>\n      <td>mpfi</td>\n      <td>3.47</td>\n      <td>2.68</td>\n      <td>9.0</td>\n      <td>111</td>\n      <td>5000</td>\n      <td>21</td>\n      <td>27</td>\n      <td>13495</td>\n    </tr>\n    <tr>\n      <th>1</th>\n      <td>3</td>\n      <td>?</td>\n      <td>alfa-romero</td>\n      <td>gas</td>\n      <td>std</td>\n      <td>two</td>\n      <td>convertible</td>\n      <td>rwd</td>\n      <td>front</td>\n      <td>88.6</td>\n      <td>...</td>\n      <td>130</td>\n      <td>mpfi</td>\n      <td>3.47</td>\n      <td>2.68</td>\n      <td>9.0</td>\n      <td>111</td>\n      <td>5000</td>\n      <td>21</td>\n      <td>27</td>\n      <td>16500</td>\n    </tr>\n    <tr>\n      <th>2</th>\n      <td>1</td>\n      <td>?</td>\n      <td>alfa-romero</td>\n      <td>gas</td>\n      <td>std</td>\n      <td>two</td>\n      <td>hatchback</td>\n      <td>rwd</td>\n      <td>front</td>\n      <td>94.5</td>\n      <td>...</td>\n      <td>152</td>\n      <td>mpfi</td>\n      <td>2.68</td>\n      <td>3.47</td>\n      <td>9.0</td>\n      <td>154</td>\n      <td>5000</td>\n      <td>19</td>\n      <td>26</td>\n      <td>16500</td>\n    </tr>\n    <tr>\n      <th>3</th>\n      <td>2</td>\n      <td>164</td>\n      <td>audi</td>\n      <td>gas</td>\n      <td>std</td>\n      <td>four</td>\n      <td>sedan</td>\n      <td>fwd</td>\n      <td>front</td>\n      <td>99.8</td>\n      <td>...</td>\n      <td>109</td>\n      <td>mpfi</td>\n      <td>3.19</td>\n      <td>3.4</td>\n      <td>10.0</td>\n      <td>102</td>\n      <td>5500</td>\n      <td>24</td>\n      <td>30</td>\n      <td>13950</td>\n    </tr>\n    <tr>\n      <th>4</th>\n      <td>2</td>\n      <td>164</td>\n      <td>audi</td>\n      <td>gas</td>\n      <td>std</td>\n      <td>four</td>\n      <td>sedan</td>\n      <td>4wd</td>\n      <td>front</td>\n      <td>99.4</td>\n      <td>...</td>\n      <td>136</td>\n      <td>mpfi</td>\n      <td>3.19</td>\n      <td>3.4</td>\n      <td>8.0</td>\n      <td>115</td>\n      <td>5500</td>\n      <td>18</td>\n      <td>22</td>\n      <td>17450</td>\n    </tr>\n    <tr>\n      <th>...</th>\n      <td>...</td>\n      <td>...</td>\n      <td>...</td>\n      <td>...</td>\n      <td>...</td>\n      <td>...</td>\n      <td>...</td>\n      <td>...</td>\n      <td>...</td>\n      <td>...</td>\n      <td>...</td>\n      <td>...</td>\n      <td>...</td>\n      <td>...</td>\n      <td>...</td>\n      <td>...</td>\n      <td>...</td>\n      <td>...</td>\n      <td>...</td>\n      <td>...</td>\n      <td>...</td>\n    </tr>\n    <tr>\n      <th>200</th>\n      <td>-1</td>\n      <td>95</td>\n      <td>volvo</td>\n      <td>gas</td>\n      <td>std</td>\n      <td>four</td>\n      <td>sedan</td>\n      <td>rwd</td>\n      <td>front</td>\n      <td>109.1</td>\n      <td>...</td>\n      <td>141</td>\n      <td>mpfi</td>\n      <td>3.78</td>\n      <td>3.15</td>\n      <td>9.5</td>\n      <td>114</td>\n      <td>5400</td>\n      <td>23</td>\n      <td>28</td>\n      <td>16845</td>\n    </tr>\n    <tr>\n      <th>201</th>\n      <td>-1</td>\n      <td>95</td>\n      <td>volvo</td>\n      <td>gas</td>\n      <td>turbo</td>\n      <td>four</td>\n      <td>sedan</td>\n      <td>rwd</td>\n      <td>front</td>\n      <td>109.1</td>\n      <td>...</td>\n      <td>141</td>\n      <td>mpfi</td>\n      <td>3.78</td>\n      <td>3.15</td>\n      <td>8.7</td>\n      <td>160</td>\n      <td>5300</td>\n      <td>19</td>\n      <td>25</td>\n      <td>19045</td>\n    </tr>\n    <tr>\n      <th>202</th>\n      <td>-1</td>\n      <td>95</td>\n      <td>volvo</td>\n      <td>gas</td>\n      <td>std</td>\n      <td>four</td>\n      <td>sedan</td>\n      <td>rwd</td>\n      <td>front</td>\n      <td>109.1</td>\n      <td>...</td>\n      <td>173</td>\n      <td>mpfi</td>\n      <td>3.58</td>\n      <td>2.87</td>\n      <td>8.8</td>\n      <td>134</td>\n      <td>5500</td>\n      <td>18</td>\n      <td>23</td>\n      <td>21485</td>\n    </tr>\n    <tr>\n      <th>203</th>\n      <td>-1</td>\n      <td>95</td>\n      <td>volvo</td>\n      <td>diesel</td>\n      <td>turbo</td>\n      <td>four</td>\n      <td>sedan</td>\n      <td>rwd</td>\n      <td>front</td>\n      <td>109.1</td>\n      <td>...</td>\n      <td>145</td>\n      <td>idi</td>\n      <td>3.01</td>\n      <td>3.4</td>\n      <td>23.0</td>\n      <td>106</td>\n      <td>4800</td>\n      <td>26</td>\n      <td>27</td>\n      <td>22470</td>\n    </tr>\n    <tr>\n      <th>204</th>\n      <td>-1</td>\n      <td>95</td>\n      <td>volvo</td>\n      <td>gas</td>\n      <td>turbo</td>\n      <td>four</td>\n      <td>sedan</td>\n      <td>rwd</td>\n      <td>front</td>\n      <td>109.1</td>\n      <td>...</td>\n      <td>141</td>\n      <td>mpfi</td>\n      <td>3.78</td>\n      <td>3.15</td>\n      <td>9.5</td>\n      <td>114</td>\n      <td>5400</td>\n      <td>19</td>\n      <td>25</td>\n      <td>22625</td>\n    </tr>\n  </tbody>\n</table>\n<p>205 rows × 26 columns</p>\n</div>"
     },
     "metadata": {},
     "execution_count": 4
    }
   ],
   "source": [
    "df"
   ]
  },
  {
   "cell_type": "code",
   "execution_count": 6,
   "metadata": {},
   "outputs": [
    {
     "output_type": "execute_result",
     "data": {
      "text/plain": [
       "Index(['symboling', 'normalized-losses', 'make', 'fuel-type', 'aspiration',\n",
       "       'num-of-doors', 'body-style', 'drive-wheels', 'engine-location',\n",
       "       'wheel-base', 'length', 'width', 'height', 'curb-weight', 'engine-type',\n",
       "       'num-of-cylinders', 'engine-size', 'fuel-system', 'bore', 'stroke',\n",
       "       'compression-ratio', 'horsepower', 'peak-rpm', 'city-mpg',\n",
       "       'highway-mpg', 'price'],\n",
       "      dtype='object')"
      ]
     },
     "metadata": {},
     "execution_count": 6
    }
   ],
   "source": [
    "df.columns                  #the columns of the df"
   ]
  },
  {
   "cell_type": "code",
   "execution_count": 7,
   "metadata": {},
   "outputs": [
    {
     "output_type": "execute_result",
     "data": {
      "text/plain": [
       "(205, 26)"
      ]
     },
     "metadata": {},
     "execution_count": 7
    }
   ],
   "source": [
    "df.shape"
   ]
  },
  {
   "cell_type": "code",
   "execution_count": 8,
   "metadata": {},
   "outputs": [
    {
     "output_type": "execute_result",
     "data": {
      "text/plain": [
       "0      alfa-romero\n",
       "1      alfa-romero\n",
       "2      alfa-romero\n",
       "3             audi\n",
       "4             audi\n",
       "          ...     \n",
       "200          volvo\n",
       "201          volvo\n",
       "202          volvo\n",
       "203          volvo\n",
       "204          volvo\n",
       "Name: make, Length: 205, dtype: object"
      ]
     },
     "metadata": {},
     "execution_count": 8
    }
   ],
   "source": [
    "df['make']                   #3,rd record only"
   ]
  },
  {
   "cell_type": "code",
   "execution_count": 74,
   "metadata": {},
   "outputs": [],
   "source": [
    "nan_value=float(\"NaN\")\n",
    "df.replace('?', nan_value , inplace=True)           #define ? as nan value     "
   ]
  },
  {
   "cell_type": "code",
   "execution_count": 75,
   "metadata": {},
   "outputs": [
    {
     "output_type": "execute_result",
     "data": {
      "text/plain": [
       "     symboling normalized-losses         make fuel-type aspiration  \\\n",
       "0            3               NaN  alfa-romero       gas        std   \n",
       "1            3               NaN  alfa-romero       gas        std   \n",
       "2            1               NaN  alfa-romero       gas        std   \n",
       "3            2               164         audi       gas        std   \n",
       "4            2               164         audi       gas        std   \n",
       "..         ...               ...          ...       ...        ...   \n",
       "200         -1                95        volvo       gas        std   \n",
       "201         -1                95        volvo       gas      turbo   \n",
       "202         -1                95        volvo       gas        std   \n",
       "203         -1                95        volvo    diesel      turbo   \n",
       "204         -1                95        volvo       gas      turbo   \n",
       "\n",
       "    num-of-doors   body-style drive-wheels engine-location  wheel-base  \n",
       "0            two  convertible          rwd           front        88.6  \n",
       "1            two  convertible          rwd           front        88.6  \n",
       "2            two    hatchback          rwd           front        94.5  \n",
       "3           four        sedan          fwd           front        99.8  \n",
       "4           four        sedan          4wd           front        99.4  \n",
       "..           ...          ...          ...             ...         ...  \n",
       "200         four        sedan          rwd           front       109.1  \n",
       "201         four        sedan          rwd           front       109.1  \n",
       "202         four        sedan          rwd           front       109.1  \n",
       "203         four        sedan          rwd           front       109.1  \n",
       "204         four        sedan          rwd           front       109.1  \n",
       "\n",
       "[205 rows x 10 columns]"
      ],
      "text/html": "<div>\n<style scoped>\n    .dataframe tbody tr th:only-of-type {\n        vertical-align: middle;\n    }\n\n    .dataframe tbody tr th {\n        vertical-align: top;\n    }\n\n    .dataframe thead th {\n        text-align: right;\n    }\n</style>\n<table border=\"1\" class=\"dataframe\">\n  <thead>\n    <tr style=\"text-align: right;\">\n      <th></th>\n      <th>symboling</th>\n      <th>normalized-losses</th>\n      <th>make</th>\n      <th>fuel-type</th>\n      <th>aspiration</th>\n      <th>num-of-doors</th>\n      <th>body-style</th>\n      <th>drive-wheels</th>\n      <th>engine-location</th>\n      <th>wheel-base</th>\n    </tr>\n  </thead>\n  <tbody>\n    <tr>\n      <th>0</th>\n      <td>3</td>\n      <td>NaN</td>\n      <td>alfa-romero</td>\n      <td>gas</td>\n      <td>std</td>\n      <td>two</td>\n      <td>convertible</td>\n      <td>rwd</td>\n      <td>front</td>\n      <td>88.6</td>\n    </tr>\n    <tr>\n      <th>1</th>\n      <td>3</td>\n      <td>NaN</td>\n      <td>alfa-romero</td>\n      <td>gas</td>\n      <td>std</td>\n      <td>two</td>\n      <td>convertible</td>\n      <td>rwd</td>\n      <td>front</td>\n      <td>88.6</td>\n    </tr>\n    <tr>\n      <th>2</th>\n      <td>1</td>\n      <td>NaN</td>\n      <td>alfa-romero</td>\n      <td>gas</td>\n      <td>std</td>\n      <td>two</td>\n      <td>hatchback</td>\n      <td>rwd</td>\n      <td>front</td>\n      <td>94.5</td>\n    </tr>\n    <tr>\n      <th>3</th>\n      <td>2</td>\n      <td>164</td>\n      <td>audi</td>\n      <td>gas</td>\n      <td>std</td>\n      <td>four</td>\n      <td>sedan</td>\n      <td>fwd</td>\n      <td>front</td>\n      <td>99.8</td>\n    </tr>\n    <tr>\n      <th>4</th>\n      <td>2</td>\n      <td>164</td>\n      <td>audi</td>\n      <td>gas</td>\n      <td>std</td>\n      <td>four</td>\n      <td>sedan</td>\n      <td>4wd</td>\n      <td>front</td>\n      <td>99.4</td>\n    </tr>\n    <tr>\n      <th>...</th>\n      <td>...</td>\n      <td>...</td>\n      <td>...</td>\n      <td>...</td>\n      <td>...</td>\n      <td>...</td>\n      <td>...</td>\n      <td>...</td>\n      <td>...</td>\n      <td>...</td>\n    </tr>\n    <tr>\n      <th>200</th>\n      <td>-1</td>\n      <td>95</td>\n      <td>volvo</td>\n      <td>gas</td>\n      <td>std</td>\n      <td>four</td>\n      <td>sedan</td>\n      <td>rwd</td>\n      <td>front</td>\n      <td>109.1</td>\n    </tr>\n    <tr>\n      <th>201</th>\n      <td>-1</td>\n      <td>95</td>\n      <td>volvo</td>\n      <td>gas</td>\n      <td>turbo</td>\n      <td>four</td>\n      <td>sedan</td>\n      <td>rwd</td>\n      <td>front</td>\n      <td>109.1</td>\n    </tr>\n    <tr>\n      <th>202</th>\n      <td>-1</td>\n      <td>95</td>\n      <td>volvo</td>\n      <td>gas</td>\n      <td>std</td>\n      <td>four</td>\n      <td>sedan</td>\n      <td>rwd</td>\n      <td>front</td>\n      <td>109.1</td>\n    </tr>\n    <tr>\n      <th>203</th>\n      <td>-1</td>\n      <td>95</td>\n      <td>volvo</td>\n      <td>diesel</td>\n      <td>turbo</td>\n      <td>four</td>\n      <td>sedan</td>\n      <td>rwd</td>\n      <td>front</td>\n      <td>109.1</td>\n    </tr>\n    <tr>\n      <th>204</th>\n      <td>-1</td>\n      <td>95</td>\n      <td>volvo</td>\n      <td>gas</td>\n      <td>turbo</td>\n      <td>four</td>\n      <td>sedan</td>\n      <td>rwd</td>\n      <td>front</td>\n      <td>109.1</td>\n    </tr>\n  </tbody>\n</table>\n<p>205 rows × 10 columns</p>\n</div>"
     },
     "metadata": {},
     "execution_count": 75
    }
   ],
   "source": [
    "df.iloc[:, :10]             #first 10 records"
   ]
  },
  {
   "cell_type": "code",
   "execution_count": 76,
   "metadata": {},
   "outputs": [],
   "source": [
    "df['normalized-losses'] = df['normalized-losses'].astype(float)"
   ]
  },
  {
   "cell_type": "code",
   "execution_count": 77,
   "metadata": {},
   "outputs": [
    {
     "output_type": "execute_result",
     "data": {
      "text/plain": [
       "symboling              int64\n",
       "normalized-losses    float64\n",
       "dtype: object"
      ]
     },
     "metadata": {},
     "execution_count": 77
    }
   ],
   "source": [
    "datatype =df[['symboling','normalized-losses']].dtypes\n",
    "datatype                                                                        #type of first 2 columns"
   ]
  },
  {
   "cell_type": "code",
   "execution_count": 78,
   "metadata": {},
   "outputs": [
    {
     "output_type": "execute_result",
     "data": {
      "text/plain": [
       "     symboling  normalized-losses         make fuel-type aspiration  \\\n",
       "0            3                NaN  alfa-romero       gas        std   \n",
       "1            3                NaN  alfa-romero       gas        std   \n",
       "2            1                NaN  alfa-romero       gas        std   \n",
       "3            2              164.0         audi       gas        std   \n",
       "4            2              164.0         audi       gas        std   \n",
       "..         ...                ...          ...       ...        ...   \n",
       "200         -1               95.0        volvo       gas        std   \n",
       "201         -1               95.0        volvo       gas      turbo   \n",
       "202         -1               95.0        volvo       gas        std   \n",
       "203         -1               95.0        volvo    diesel      turbo   \n",
       "204         -1               95.0        volvo       gas      turbo   \n",
       "\n",
       "    num-of-doors   body-style drive-wheels engine-location  wheel-base  ...  \\\n",
       "0            two  convertible          rwd           front        88.6  ...   \n",
       "1            two  convertible          rwd           front        88.6  ...   \n",
       "2            two    hatchback          rwd           front        94.5  ...   \n",
       "3           four        sedan          fwd           front        99.8  ...   \n",
       "4           four        sedan          4wd           front        99.4  ...   \n",
       "..           ...          ...          ...             ...         ...  ...   \n",
       "200         four        sedan          rwd           front       109.1  ...   \n",
       "201         four        sedan          rwd           front       109.1  ...   \n",
       "202         four        sedan          rwd           front       109.1  ...   \n",
       "203         four        sedan          rwd           front       109.1  ...   \n",
       "204         four        sedan          rwd           front       109.1  ...   \n",
       "\n",
       "     engine-size  fuel-system  bore  stroke compression-ratio horsepower  \\\n",
       "0            130         mpfi  3.47    2.68               9.0        111   \n",
       "1            130         mpfi  3.47    2.68               9.0        111   \n",
       "2            152         mpfi  2.68    3.47               9.0        154   \n",
       "3            109         mpfi  3.19     3.4              10.0        102   \n",
       "4            136         mpfi  3.19     3.4               8.0        115   \n",
       "..           ...          ...   ...     ...               ...        ...   \n",
       "200          141         mpfi  3.78    3.15               9.5        114   \n",
       "201          141         mpfi  3.78    3.15               8.7        160   \n",
       "202          173         mpfi  3.58    2.87               8.8        134   \n",
       "203          145          idi  3.01     3.4              23.0        106   \n",
       "204          141         mpfi  3.78    3.15               9.5        114   \n",
       "\n",
       "     peak-rpm city-mpg highway-mpg  price  \n",
       "0        5000       21          27  13495  \n",
       "1        5000       21          27  16500  \n",
       "2        5000       19          26  16500  \n",
       "3        5500       24          30  13950  \n",
       "4        5500       18          22  17450  \n",
       "..        ...      ...         ...    ...  \n",
       "200      5400       23          28  16845  \n",
       "201      5300       19          25  19045  \n",
       "202      5500       18          23  21485  \n",
       "203      4800       26          27  22470  \n",
       "204      5400       19          25  22625  \n",
       "\n",
       "[205 rows x 26 columns]"
      ],
      "text/html": "<div>\n<style scoped>\n    .dataframe tbody tr th:only-of-type {\n        vertical-align: middle;\n    }\n\n    .dataframe tbody tr th {\n        vertical-align: top;\n    }\n\n    .dataframe thead th {\n        text-align: right;\n    }\n</style>\n<table border=\"1\" class=\"dataframe\">\n  <thead>\n    <tr style=\"text-align: right;\">\n      <th></th>\n      <th>symboling</th>\n      <th>normalized-losses</th>\n      <th>make</th>\n      <th>fuel-type</th>\n      <th>aspiration</th>\n      <th>num-of-doors</th>\n      <th>body-style</th>\n      <th>drive-wheels</th>\n      <th>engine-location</th>\n      <th>wheel-base</th>\n      <th>...</th>\n      <th>engine-size</th>\n      <th>fuel-system</th>\n      <th>bore</th>\n      <th>stroke</th>\n      <th>compression-ratio</th>\n      <th>horsepower</th>\n      <th>peak-rpm</th>\n      <th>city-mpg</th>\n      <th>highway-mpg</th>\n      <th>price</th>\n    </tr>\n  </thead>\n  <tbody>\n    <tr>\n      <th>0</th>\n      <td>3</td>\n      <td>NaN</td>\n      <td>alfa-romero</td>\n      <td>gas</td>\n      <td>std</td>\n      <td>two</td>\n      <td>convertible</td>\n      <td>rwd</td>\n      <td>front</td>\n      <td>88.6</td>\n      <td>...</td>\n      <td>130</td>\n      <td>mpfi</td>\n      <td>3.47</td>\n      <td>2.68</td>\n      <td>9.0</td>\n      <td>111</td>\n      <td>5000</td>\n      <td>21</td>\n      <td>27</td>\n      <td>13495</td>\n    </tr>\n    <tr>\n      <th>1</th>\n      <td>3</td>\n      <td>NaN</td>\n      <td>alfa-romero</td>\n      <td>gas</td>\n      <td>std</td>\n      <td>two</td>\n      <td>convertible</td>\n      <td>rwd</td>\n      <td>front</td>\n      <td>88.6</td>\n      <td>...</td>\n      <td>130</td>\n      <td>mpfi</td>\n      <td>3.47</td>\n      <td>2.68</td>\n      <td>9.0</td>\n      <td>111</td>\n      <td>5000</td>\n      <td>21</td>\n      <td>27</td>\n      <td>16500</td>\n    </tr>\n    <tr>\n      <th>2</th>\n      <td>1</td>\n      <td>NaN</td>\n      <td>alfa-romero</td>\n      <td>gas</td>\n      <td>std</td>\n      <td>two</td>\n      <td>hatchback</td>\n      <td>rwd</td>\n      <td>front</td>\n      <td>94.5</td>\n      <td>...</td>\n      <td>152</td>\n      <td>mpfi</td>\n      <td>2.68</td>\n      <td>3.47</td>\n      <td>9.0</td>\n      <td>154</td>\n      <td>5000</td>\n      <td>19</td>\n      <td>26</td>\n      <td>16500</td>\n    </tr>\n    <tr>\n      <th>3</th>\n      <td>2</td>\n      <td>164.0</td>\n      <td>audi</td>\n      <td>gas</td>\n      <td>std</td>\n      <td>four</td>\n      <td>sedan</td>\n      <td>fwd</td>\n      <td>front</td>\n      <td>99.8</td>\n      <td>...</td>\n      <td>109</td>\n      <td>mpfi</td>\n      <td>3.19</td>\n      <td>3.4</td>\n      <td>10.0</td>\n      <td>102</td>\n      <td>5500</td>\n      <td>24</td>\n      <td>30</td>\n      <td>13950</td>\n    </tr>\n    <tr>\n      <th>4</th>\n      <td>2</td>\n      <td>164.0</td>\n      <td>audi</td>\n      <td>gas</td>\n      <td>std</td>\n      <td>four</td>\n      <td>sedan</td>\n      <td>4wd</td>\n      <td>front</td>\n      <td>99.4</td>\n      <td>...</td>\n      <td>136</td>\n      <td>mpfi</td>\n      <td>3.19</td>\n      <td>3.4</td>\n      <td>8.0</td>\n      <td>115</td>\n      <td>5500</td>\n      <td>18</td>\n      <td>22</td>\n      <td>17450</td>\n    </tr>\n    <tr>\n      <th>...</th>\n      <td>...</td>\n      <td>...</td>\n      <td>...</td>\n      <td>...</td>\n      <td>...</td>\n      <td>...</td>\n      <td>...</td>\n      <td>...</td>\n      <td>...</td>\n      <td>...</td>\n      <td>...</td>\n      <td>...</td>\n      <td>...</td>\n      <td>...</td>\n      <td>...</td>\n      <td>...</td>\n      <td>...</td>\n      <td>...</td>\n      <td>...</td>\n      <td>...</td>\n      <td>...</td>\n    </tr>\n    <tr>\n      <th>200</th>\n      <td>-1</td>\n      <td>95.0</td>\n      <td>volvo</td>\n      <td>gas</td>\n      <td>std</td>\n      <td>four</td>\n      <td>sedan</td>\n      <td>rwd</td>\n      <td>front</td>\n      <td>109.1</td>\n      <td>...</td>\n      <td>141</td>\n      <td>mpfi</td>\n      <td>3.78</td>\n      <td>3.15</td>\n      <td>9.5</td>\n      <td>114</td>\n      <td>5400</td>\n      <td>23</td>\n      <td>28</td>\n      <td>16845</td>\n    </tr>\n    <tr>\n      <th>201</th>\n      <td>-1</td>\n      <td>95.0</td>\n      <td>volvo</td>\n      <td>gas</td>\n      <td>turbo</td>\n      <td>four</td>\n      <td>sedan</td>\n      <td>rwd</td>\n      <td>front</td>\n      <td>109.1</td>\n      <td>...</td>\n      <td>141</td>\n      <td>mpfi</td>\n      <td>3.78</td>\n      <td>3.15</td>\n      <td>8.7</td>\n      <td>160</td>\n      <td>5300</td>\n      <td>19</td>\n      <td>25</td>\n      <td>19045</td>\n    </tr>\n    <tr>\n      <th>202</th>\n      <td>-1</td>\n      <td>95.0</td>\n      <td>volvo</td>\n      <td>gas</td>\n      <td>std</td>\n      <td>four</td>\n      <td>sedan</td>\n      <td>rwd</td>\n      <td>front</td>\n      <td>109.1</td>\n      <td>...</td>\n      <td>173</td>\n      <td>mpfi</td>\n      <td>3.58</td>\n      <td>2.87</td>\n      <td>8.8</td>\n      <td>134</td>\n      <td>5500</td>\n      <td>18</td>\n      <td>23</td>\n      <td>21485</td>\n    </tr>\n    <tr>\n      <th>203</th>\n      <td>-1</td>\n      <td>95.0</td>\n      <td>volvo</td>\n      <td>diesel</td>\n      <td>turbo</td>\n      <td>four</td>\n      <td>sedan</td>\n      <td>rwd</td>\n      <td>front</td>\n      <td>109.1</td>\n      <td>...</td>\n      <td>145</td>\n      <td>idi</td>\n      <td>3.01</td>\n      <td>3.4</td>\n      <td>23.0</td>\n      <td>106</td>\n      <td>4800</td>\n      <td>26</td>\n      <td>27</td>\n      <td>22470</td>\n    </tr>\n    <tr>\n      <th>204</th>\n      <td>-1</td>\n      <td>95.0</td>\n      <td>volvo</td>\n      <td>gas</td>\n      <td>turbo</td>\n      <td>four</td>\n      <td>sedan</td>\n      <td>rwd</td>\n      <td>front</td>\n      <td>109.1</td>\n      <td>...</td>\n      <td>141</td>\n      <td>mpfi</td>\n      <td>3.78</td>\n      <td>3.15</td>\n      <td>9.5</td>\n      <td>114</td>\n      <td>5400</td>\n      <td>19</td>\n      <td>25</td>\n      <td>22625</td>\n    </tr>\n  </tbody>\n</table>\n<p>205 rows × 26 columns</p>\n</div>"
     },
     "metadata": {},
     "execution_count": 78
    }
   ],
   "source": [
    "df"
   ]
  },
  {
   "cell_type": "code",
   "execution_count": 79,
   "metadata": {},
   "outputs": [],
   "source": [
    "df['symboling']=df['symboling'].astype(float)                        #convert 1'st column to float"
   ]
  },
  {
   "cell_type": "code",
   "execution_count": 80,
   "metadata": {},
   "outputs": [
    {
     "output_type": "execute_result",
     "data": {
      "text/plain": [
       "dtype('float64')"
      ]
     },
     "metadata": {},
     "execution_count": 80
    }
   ],
   "source": [
    "df['symboling'].dtypes"
   ]
  },
  {
   "cell_type": "code",
   "execution_count": 82,
   "metadata": {},
   "outputs": [
    {
     "output_type": "execute_result",
     "data": {
      "text/plain": [
       "symboling             0.00000\n",
       "normalized-losses    20.00000\n",
       "make                  0.00000\n",
       "fuel-type             0.00000\n",
       "aspiration            0.00000\n",
       "num-of-doors          0.97561\n",
       "body-style            0.00000\n",
       "drive-wheels          0.00000\n",
       "engine-location       0.00000\n",
       "wheel-base            0.00000\n",
       "length                0.00000\n",
       "width                 0.00000\n",
       "height                0.00000\n",
       "curb-weight           0.00000\n",
       "engine-type           0.00000\n",
       "num-of-cylinders      0.00000\n",
       "engine-size           0.00000\n",
       "fuel-system           0.00000\n",
       "bore                  1.95122\n",
       "stroke                1.95122\n",
       "compression-ratio     0.00000\n",
       "horsepower            0.97561\n",
       "peak-rpm              0.97561\n",
       "city-mpg              0.00000\n",
       "highway-mpg           0.00000\n",
       "price                 1.95122\n",
       "dtype: float64"
      ]
     },
     "metadata": {},
     "execution_count": 82
    }
   ],
   "source": [
    "precentage = df.isnull().sum() *100 /len(df)                   #precentage of the null value\n",
    "precentage"
   ]
  },
  {
   "cell_type": "code",
   "execution_count": 111,
   "metadata": {},
   "outputs": [
    {
     "output_type": "execute_result",
     "data": {
      "text/plain": [
       "symboling               1.0\n",
       "wheel-base             97.0\n",
       "length                173.2\n",
       "width                  65.5\n",
       "height                 54.1\n",
       "curb-weight          2414.0\n",
       "engine-size           120.0\n",
       "compression-ratio       9.0\n",
       "city-mpg               24.0\n",
       "highway-mpg            30.0\n",
       "dtype: float64"
      ]
     },
     "metadata": {},
     "execution_count": 111
    }
   ],
   "source": [
    "df.median()"
   ]
  },
  {
   "cell_type": "code",
   "execution_count": 49,
   "metadata": {},
   "outputs": [
    {
     "output_type": "execute_result",
     "data": {
      "text/plain": [
       "95.0"
      ]
     },
     "metadata": {},
     "execution_count": 49
    }
   ],
   "source": [
    "medians = df[\"horsepower\"].median()         #get the median of this column\n",
    "medians"
   ]
  },
  {
   "cell_type": "code",
   "execution_count": 79,
   "metadata": {},
   "outputs": [],
   "source": [
    "df['horsepower']=df['horsepower'].fillna(medians)               #fill it nan values with its median\r\n",
    "df['horsepower']=df['horsepower'].astype(int)\r\n"
   ]
  },
  {
   "cell_type": "code",
   "execution_count": 95,
   "metadata": {},
   "outputs": [
    {
     "output_type": "execute_result",
     "data": {
      "text/plain": [
       "array(['alfa-romero', 'audi', 'bmw', 'chevrolet', 'dodge', 'honda',\n",
       "       'isuzu', 'jaguar', 'mazda', 'mercedes-benz', 'mercury',\n",
       "       'mitsubishi', 'nissan', 'peugot', 'plymouth', 'porsche', 'renault',\n",
       "       'saab', 'subaru', 'toyota', 'volkswagen', 'volvo'], dtype=object)"
      ]
     },
     "metadata": {},
     "execution_count": 95
    }
   ],
   "source": [
    "df['make'].unique()                        # the unique values of make columns"
   ]
  },
  {
   "cell_type": "code",
   "execution_count": 98,
   "metadata": {},
   "outputs": [
    {
     "output_type": "execute_result",
     "data": {
      "text/plain": [
       "22"
      ]
     },
     "metadata": {},
     "execution_count": 98
    }
   ],
   "source": [
    "df['make'].nunique()                # the number of the unique values"
   ]
  },
  {
   "cell_type": "code",
   "execution_count": 141,
   "metadata": {},
   "outputs": [
    {
     "output_type": "execute_result",
     "data": {
      "text/plain": [
       "10295.0"
      ]
     },
     "metadata": {},
     "execution_count": 141
    }
   ],
   "source": [
    "df['price'].median()"
   ]
  },
  {
   "cell_type": "code",
   "execution_count": 95,
   "metadata": {},
   "outputs": [
    {
     "output_type": "execute_result",
     "data": {
      "text/plain": [
       "0      13495\n",
       "1      16500\n",
       "2      16500\n",
       "3      13950\n",
       "4      17450\n",
       "       ...  \n",
       "200    16845\n",
       "201    19045\n",
       "202    21485\n",
       "203    22470\n",
       "204    22625\n",
       "Name: price, Length: 205, dtype: int32"
      ]
     },
     "metadata": {},
     "execution_count": 95
    }
   ],
   "source": [
    "df[\"price\"]=df[\"price\"].fillna(10295)           #fill nan with median\n",
    "df[\"price\"]=df[\"price\"].astype(int)             #convert the dtype to int\n",
    "df[\"price\"]"
   ]
  },
  {
   "cell_type": "code",
   "execution_count": 102,
   "metadata": {},
   "outputs": [
    {
     "output_type": "execute_result",
     "data": {
      "text/plain": [
       "13150.307317073171"
      ]
     },
     "metadata": {},
     "execution_count": 102
    }
   ],
   "source": [
    "df[\"price\"].mean()      #the mean of the price columns"
   ]
  },
  {
   "cell_type": "code",
   "execution_count": 81,
   "metadata": {},
   "outputs": [
    {
     "output_type": "execute_result",
     "data": {
      "text/plain": [
       "     symboling  normalized-losses         make fuel-type aspiration  \\\n",
       "0          3.0                NaN  alfa-romero       gas        std   \n",
       "1          3.0                NaN  alfa-romero       gas        std   \n",
       "2          1.0                NaN  alfa-romero       gas        std   \n",
       "3          2.0              164.0         audi       gas        std   \n",
       "4          2.0              164.0         audi       gas        std   \n",
       "..         ...                ...          ...       ...        ...   \n",
       "200       -1.0               95.0        volvo       gas        std   \n",
       "201       -1.0               95.0        volvo       gas      turbo   \n",
       "202       -1.0               95.0        volvo       gas        std   \n",
       "203       -1.0               95.0        volvo    diesel      turbo   \n",
       "204       -1.0               95.0        volvo       gas      turbo   \n",
       "\n",
       "    num-of-doors   body-style drive-wheels engine-location  wheel-base  ...  \\\n",
       "0            two  convertible          rwd           front        88.6  ...   \n",
       "1            two  convertible          rwd           front        88.6  ...   \n",
       "2            two    hatchback          rwd           front        94.5  ...   \n",
       "3           four        sedan          fwd           front        99.8  ...   \n",
       "4           four        sedan          4wd           front        99.4  ...   \n",
       "..           ...          ...          ...             ...         ...  ...   \n",
       "200         four        sedan          rwd           front       109.1  ...   \n",
       "201         four        sedan          rwd           front       109.1  ...   \n",
       "202         four        sedan          rwd           front       109.1  ...   \n",
       "203         four        sedan          rwd           front       109.1  ...   \n",
       "204         four        sedan          rwd           front       109.1  ...   \n",
       "\n",
       "     engine-size  fuel-system  bore  stroke compression-ratio horsepower  \\\n",
       "0            130         mpfi  3.47    2.68               9.0        111   \n",
       "1            130         mpfi  3.47    2.68               9.0        111   \n",
       "2            152         mpfi  2.68    3.47               9.0        154   \n",
       "3            109         mpfi  3.19     3.4              10.0        102   \n",
       "4            136         mpfi  3.19     3.4               8.0        115   \n",
       "..           ...          ...   ...     ...               ...        ...   \n",
       "200          141         mpfi  3.78    3.15               9.5        114   \n",
       "201          141         mpfi  3.78    3.15               8.7        160   \n",
       "202          173         mpfi  3.58    2.87               8.8        134   \n",
       "203          145          idi  3.01     3.4              23.0        106   \n",
       "204          141         mpfi  3.78    3.15               9.5        114   \n",
       "\n",
       "     peak-rpm city-mpg highway-mpg  price  \n",
       "0        5000       21          27  13495  \n",
       "1        5000       21          27  16500  \n",
       "2        5000       19          26  16500  \n",
       "3        5500       24          30  13950  \n",
       "4        5500       18          22  17450  \n",
       "..        ...      ...         ...    ...  \n",
       "200      5400       23          28  16845  \n",
       "201      5300       19          25  19045  \n",
       "202      5500       18          23  21485  \n",
       "203      4800       26          27  22470  \n",
       "204      5400       19          25  22625  \n",
       "\n",
       "[92 rows x 26 columns]"
      ],
      "text/html": "<div>\n<style scoped>\n    .dataframe tbody tr th:only-of-type {\n        vertical-align: middle;\n    }\n\n    .dataframe tbody tr th {\n        vertical-align: top;\n    }\n\n    .dataframe thead th {\n        text-align: right;\n    }\n</style>\n<table border=\"1\" class=\"dataframe\">\n  <thead>\n    <tr style=\"text-align: right;\">\n      <th></th>\n      <th>symboling</th>\n      <th>normalized-losses</th>\n      <th>make</th>\n      <th>fuel-type</th>\n      <th>aspiration</th>\n      <th>num-of-doors</th>\n      <th>body-style</th>\n      <th>drive-wheels</th>\n      <th>engine-location</th>\n      <th>wheel-base</th>\n      <th>...</th>\n      <th>engine-size</th>\n      <th>fuel-system</th>\n      <th>bore</th>\n      <th>stroke</th>\n      <th>compression-ratio</th>\n      <th>horsepower</th>\n      <th>peak-rpm</th>\n      <th>city-mpg</th>\n      <th>highway-mpg</th>\n      <th>price</th>\n    </tr>\n  </thead>\n  <tbody>\n    <tr>\n      <th>0</th>\n      <td>3.0</td>\n      <td>NaN</td>\n      <td>alfa-romero</td>\n      <td>gas</td>\n      <td>std</td>\n      <td>two</td>\n      <td>convertible</td>\n      <td>rwd</td>\n      <td>front</td>\n      <td>88.6</td>\n      <td>...</td>\n      <td>130</td>\n      <td>mpfi</td>\n      <td>3.47</td>\n      <td>2.68</td>\n      <td>9.0</td>\n      <td>111</td>\n      <td>5000</td>\n      <td>21</td>\n      <td>27</td>\n      <td>13495</td>\n    </tr>\n    <tr>\n      <th>1</th>\n      <td>3.0</td>\n      <td>NaN</td>\n      <td>alfa-romero</td>\n      <td>gas</td>\n      <td>std</td>\n      <td>two</td>\n      <td>convertible</td>\n      <td>rwd</td>\n      <td>front</td>\n      <td>88.6</td>\n      <td>...</td>\n      <td>130</td>\n      <td>mpfi</td>\n      <td>3.47</td>\n      <td>2.68</td>\n      <td>9.0</td>\n      <td>111</td>\n      <td>5000</td>\n      <td>21</td>\n      <td>27</td>\n      <td>16500</td>\n    </tr>\n    <tr>\n      <th>2</th>\n      <td>1.0</td>\n      <td>NaN</td>\n      <td>alfa-romero</td>\n      <td>gas</td>\n      <td>std</td>\n      <td>two</td>\n      <td>hatchback</td>\n      <td>rwd</td>\n      <td>front</td>\n      <td>94.5</td>\n      <td>...</td>\n      <td>152</td>\n      <td>mpfi</td>\n      <td>2.68</td>\n      <td>3.47</td>\n      <td>9.0</td>\n      <td>154</td>\n      <td>5000</td>\n      <td>19</td>\n      <td>26</td>\n      <td>16500</td>\n    </tr>\n    <tr>\n      <th>3</th>\n      <td>2.0</td>\n      <td>164.0</td>\n      <td>audi</td>\n      <td>gas</td>\n      <td>std</td>\n      <td>four</td>\n      <td>sedan</td>\n      <td>fwd</td>\n      <td>front</td>\n      <td>99.8</td>\n      <td>...</td>\n      <td>109</td>\n      <td>mpfi</td>\n      <td>3.19</td>\n      <td>3.4</td>\n      <td>10.0</td>\n      <td>102</td>\n      <td>5500</td>\n      <td>24</td>\n      <td>30</td>\n      <td>13950</td>\n    </tr>\n    <tr>\n      <th>4</th>\n      <td>2.0</td>\n      <td>164.0</td>\n      <td>audi</td>\n      <td>gas</td>\n      <td>std</td>\n      <td>four</td>\n      <td>sedan</td>\n      <td>4wd</td>\n      <td>front</td>\n      <td>99.4</td>\n      <td>...</td>\n      <td>136</td>\n      <td>mpfi</td>\n      <td>3.19</td>\n      <td>3.4</td>\n      <td>8.0</td>\n      <td>115</td>\n      <td>5500</td>\n      <td>18</td>\n      <td>22</td>\n      <td>17450</td>\n    </tr>\n    <tr>\n      <th>...</th>\n      <td>...</td>\n      <td>...</td>\n      <td>...</td>\n      <td>...</td>\n      <td>...</td>\n      <td>...</td>\n      <td>...</td>\n      <td>...</td>\n      <td>...</td>\n      <td>...</td>\n      <td>...</td>\n      <td>...</td>\n      <td>...</td>\n      <td>...</td>\n      <td>...</td>\n      <td>...</td>\n      <td>...</td>\n      <td>...</td>\n      <td>...</td>\n      <td>...</td>\n      <td>...</td>\n    </tr>\n    <tr>\n      <th>200</th>\n      <td>-1.0</td>\n      <td>95.0</td>\n      <td>volvo</td>\n      <td>gas</td>\n      <td>std</td>\n      <td>four</td>\n      <td>sedan</td>\n      <td>rwd</td>\n      <td>front</td>\n      <td>109.1</td>\n      <td>...</td>\n      <td>141</td>\n      <td>mpfi</td>\n      <td>3.78</td>\n      <td>3.15</td>\n      <td>9.5</td>\n      <td>114</td>\n      <td>5400</td>\n      <td>23</td>\n      <td>28</td>\n      <td>16845</td>\n    </tr>\n    <tr>\n      <th>201</th>\n      <td>-1.0</td>\n      <td>95.0</td>\n      <td>volvo</td>\n      <td>gas</td>\n      <td>turbo</td>\n      <td>four</td>\n      <td>sedan</td>\n      <td>rwd</td>\n      <td>front</td>\n      <td>109.1</td>\n      <td>...</td>\n      <td>141</td>\n      <td>mpfi</td>\n      <td>3.78</td>\n      <td>3.15</td>\n      <td>8.7</td>\n      <td>160</td>\n      <td>5300</td>\n      <td>19</td>\n      <td>25</td>\n      <td>19045</td>\n    </tr>\n    <tr>\n      <th>202</th>\n      <td>-1.0</td>\n      <td>95.0</td>\n      <td>volvo</td>\n      <td>gas</td>\n      <td>std</td>\n      <td>four</td>\n      <td>sedan</td>\n      <td>rwd</td>\n      <td>front</td>\n      <td>109.1</td>\n      <td>...</td>\n      <td>173</td>\n      <td>mpfi</td>\n      <td>3.58</td>\n      <td>2.87</td>\n      <td>8.8</td>\n      <td>134</td>\n      <td>5500</td>\n      <td>18</td>\n      <td>23</td>\n      <td>21485</td>\n    </tr>\n    <tr>\n      <th>203</th>\n      <td>-1.0</td>\n      <td>95.0</td>\n      <td>volvo</td>\n      <td>diesel</td>\n      <td>turbo</td>\n      <td>four</td>\n      <td>sedan</td>\n      <td>rwd</td>\n      <td>front</td>\n      <td>109.1</td>\n      <td>...</td>\n      <td>145</td>\n      <td>idi</td>\n      <td>3.01</td>\n      <td>3.4</td>\n      <td>23.0</td>\n      <td>106</td>\n      <td>4800</td>\n      <td>26</td>\n      <td>27</td>\n      <td>22470</td>\n    </tr>\n    <tr>\n      <th>204</th>\n      <td>-1.0</td>\n      <td>95.0</td>\n      <td>volvo</td>\n      <td>gas</td>\n      <td>turbo</td>\n      <td>four</td>\n      <td>sedan</td>\n      <td>rwd</td>\n      <td>front</td>\n      <td>109.1</td>\n      <td>...</td>\n      <td>141</td>\n      <td>mpfi</td>\n      <td>3.78</td>\n      <td>3.15</td>\n      <td>9.5</td>\n      <td>114</td>\n      <td>5400</td>\n      <td>19</td>\n      <td>25</td>\n      <td>22625</td>\n    </tr>\n  </tbody>\n</table>\n<p>92 rows × 26 columns</p>\n</div>"
     },
     "metadata": {},
     "execution_count": 81
    }
   ],
   "source": [
    "horspower = (df['horsepower'] >100 )            #df where horse power is greater than 100\n",
    "df.loc[horspower]"
   ]
  },
  {
   "cell_type": "code",
   "execution_count": 127,
   "metadata": {},
   "outputs": [
    {
     "output_type": "stream",
     "name": "stdout",
     "text": [
      "803.5\n"
     ]
    }
   ],
   "source": [
    "def priceIQR() :\n",
    "    df.sort_values('price')                                                         # func to calculate the IQR (i hope it is right 🙂)\n",
    "    Q1 = df['price'][:103].median()\n",
    "    Q2 = df['price'][103:].median()\n",
    "    Q3 = Q2 -Q1\n",
    "    print(Q3)\n",
    "\n",
    "priceIQR()"
   ]
  },
  {
   "cell_type": "code",
   "execution_count": 108,
   "metadata": {},
   "outputs": [
    {
     "output_type": "execute_result",
     "data": {
      "text/plain": [
       "<function matplotlib.pyplot.show(close=None, block=None)>"
      ]
     },
     "metadata": {},
     "execution_count": 108
    },
    {
     "output_type": "display_data",
     "data": {
      "text/plain": "<Figure size 432x288 with 1 Axes>",
      "image/svg+xml": "<?xml version=\"1.0\" encoding=\"utf-8\" standalone=\"no\"?>\r\n<!DOCTYPE svg PUBLIC \"-//W3C//DTD SVG 1.1//EN\"\r\n  \"http://www.w3.org/Graphics/SVG/1.1/DTD/svg11.dtd\">\r\n<svg height=\"248.518125pt\" version=\"1.1\" viewBox=\"0 0 368.925 248.518125\" width=\"368.925pt\" xmlns=\"http://www.w3.org/2000/svg\" xmlns:xlink=\"http://www.w3.org/1999/xlink\">\r\n <metadata>\r\n  <rdf:RDF xmlns:cc=\"http://creativecommons.org/ns#\" xmlns:dc=\"http://purl.org/dc/elements/1.1/\" xmlns:rdf=\"http://www.w3.org/1999/02/22-rdf-syntax-ns#\">\r\n   <cc:Work>\r\n    <dc:type rdf:resource=\"http://purl.org/dc/dcmitype/StillImage\"/>\r\n    <dc:date>2021-05-04T22:18:59.159976</dc:date>\r\n    <dc:format>image/svg+xml</dc:format>\r\n    <dc:creator>\r\n     <cc:Agent>\r\n      <dc:title>Matplotlib v3.4.1, https://matplotlib.org/</dc:title>\r\n     </cc:Agent>\r\n    </dc:creator>\r\n   </cc:Work>\r\n  </rdf:RDF>\r\n </metadata>\r\n <defs>\r\n  <style type=\"text/css\">*{stroke-linecap:butt;stroke-linejoin:round;}</style>\r\n </defs>\r\n <g id=\"figure_1\">\r\n  <g id=\"patch_1\">\r\n   <path d=\"M -0 248.518125 \r\nL 368.925 248.518125 \r\nL 368.925 0 \r\nL -0 0 \r\nz\r\n\" style=\"fill:none;\"/>\r\n  </g>\r\n  <g id=\"axes_1\">\r\n   <g id=\"patch_2\">\r\n    <path d=\"M 26.925 224.64 \r\nL 361.725 224.64 \r\nL 361.725 7.2 \r\nL 26.925 7.2 \r\nz\r\n\" style=\"fill:#ffffff;\"/>\r\n   </g>\r\n   <g id=\"patch_3\">\r\n    <path clip-path=\"url(#pab9e8626c2)\" d=\"M 42.143182 224.64 \r\nL 72.579545 224.64 \r\nL 72.579545 209.487387 \r\nL 42.143182 209.487387 \r\nz\r\n\" style=\"fill:#86bf91;\"/>\r\n   </g>\r\n   <g id=\"patch_4\">\r\n    <path clip-path=\"url(#pab9e8626c2)\" d=\"M 72.579545 224.64 \r\nL 103.015909 224.64 \r\nL 103.015909 179.18216 \r\nL 72.579545 179.18216 \r\nz\r\n\" style=\"fill:#86bf91;\"/>\r\n   </g>\r\n   <g id=\"patch_5\">\r\n    <path clip-path=\"url(#pab9e8626c2)\" d=\"M 103.015909 224.64 \r\nL 133.452273 224.64 \r\nL 133.452273 83.21561 \r\nL 103.015909 83.21561 \r\nz\r\n\" style=\"fill:#86bf91;\"/>\r\n   </g>\r\n   <g id=\"patch_6\">\r\n    <path clip-path=\"url(#pab9e8626c2)\" d=\"M 133.452273 224.64 \r\nL 163.888636 224.64 \r\nL 163.888636 98.368223 \r\nL 133.452273 98.368223 \r\nz\r\n\" style=\"fill:#86bf91;\"/>\r\n   </g>\r\n   <g id=\"patch_7\">\r\n    <path clip-path=\"url(#pab9e8626c2)\" d=\"M 163.888636 224.64 \r\nL 194.325 224.64 \r\nL 194.325 57.961254 \r\nL 163.888636 57.961254 \r\nz\r\n\" style=\"fill:#86bf91;\"/>\r\n   </g>\r\n   <g id=\"patch_8\">\r\n    <path clip-path=\"url(#pab9e8626c2)\" d=\"M 194.325 224.64 \r\nL 224.761364 224.64 \r\nL 224.761364 17.554286 \r\nL 194.325 17.554286 \r\nz\r\n\" style=\"fill:#86bf91;\"/>\r\n   </g>\r\n   <g id=\"patch_9\">\r\n    <path clip-path=\"url(#pab9e8626c2)\" d=\"M 224.761364 224.64 \r\nL 255.197727 224.64 \r\nL 255.197727 32.706899 \r\nL 224.761364 32.706899 \r\nz\r\n\" style=\"fill:#86bf91;\"/>\r\n   </g>\r\n   <g id=\"patch_10\">\r\n    <path clip-path=\"url(#pab9e8626c2)\" d=\"M 255.197727 224.64 \r\nL 285.634091 224.64 \r\nL 285.634091 148.876934 \r\nL 255.197727 148.876934 \r\nz\r\n\" style=\"fill:#86bf91;\"/>\r\n   </g>\r\n   <g id=\"patch_11\">\r\n    <path clip-path=\"url(#pab9e8626c2)\" d=\"M 285.634091 224.64 \r\nL 316.070455 224.64 \r\nL 316.070455 204.436516 \r\nL 285.634091 204.436516 \r\nz\r\n\" style=\"fill:#86bf91;\"/>\r\n   </g>\r\n   <g id=\"patch_12\">\r\n    <path clip-path=\"url(#pab9e8626c2)\" d=\"M 316.070455 224.64 \r\nL 346.506818 224.64 \r\nL 346.506818 179.18216 \r\nL 316.070455 179.18216 \r\nz\r\n\" style=\"fill:#86bf91;\"/>\r\n   </g>\r\n   <g id=\"matplotlib.axis_1\">\r\n    <g id=\"xtick_1\">\r\n     <g id=\"line2d_1\">\r\n      <path clip-path=\"url(#pab9e8626c2)\" d=\"M 47.215909 224.64 \r\nL 47.215909 7.2 \r\n\" style=\"fill:none;stroke:#b0b0b0;stroke-linecap:square;stroke-width:0.8;\"/>\r\n     </g>\r\n     <g id=\"line2d_2\">\r\n      <defs>\r\n       <path d=\"M 0 0 \r\nL 0 3.5 \r\n\" id=\"m01f130d562\" style=\"stroke:#000000;stroke-width:0.8;\"/>\r\n      </defs>\r\n      <g>\r\n       <use style=\"stroke:#000000;stroke-width:0.8;\" x=\"47.215909\" xlink:href=\"#m01f130d562\" y=\"224.64\"/>\r\n      </g>\r\n     </g>\r\n     <g id=\"text_1\">\r\n      <!-- 48 -->\r\n      <g transform=\"translate(40.853409 239.238437)scale(0.1 -0.1)\">\r\n       <defs>\r\n        <path d=\"M 2419 4116 \r\nL 825 1625 \r\nL 2419 1625 \r\nL 2419 4116 \r\nz\r\nM 2253 4666 \r\nL 3047 4666 \r\nL 3047 1625 \r\nL 3713 1625 \r\nL 3713 1100 \r\nL 3047 1100 \r\nL 3047 0 \r\nL 2419 0 \r\nL 2419 1100 \r\nL 313 1100 \r\nL 313 1709 \r\nL 2253 4666 \r\nz\r\n\" id=\"DejaVuSans-34\" transform=\"scale(0.015625)\"/>\r\n        <path d=\"M 2034 2216 \r\nQ 1584 2216 1326 1975 \r\nQ 1069 1734 1069 1313 \r\nQ 1069 891 1326 650 \r\nQ 1584 409 2034 409 \r\nQ 2484 409 2743 651 \r\nQ 3003 894 3003 1313 \r\nQ 3003 1734 2745 1975 \r\nQ 2488 2216 2034 2216 \r\nz\r\nM 1403 2484 \r\nQ 997 2584 770 2862 \r\nQ 544 3141 544 3541 \r\nQ 544 4100 942 4425 \r\nQ 1341 4750 2034 4750 \r\nQ 2731 4750 3128 4425 \r\nQ 3525 4100 3525 3541 \r\nQ 3525 3141 3298 2862 \r\nQ 3072 2584 2669 2484 \r\nQ 3125 2378 3379 2068 \r\nQ 3634 1759 3634 1313 \r\nQ 3634 634 3220 271 \r\nQ 2806 -91 2034 -91 \r\nQ 1263 -91 848 271 \r\nQ 434 634 434 1313 \r\nQ 434 1759 690 2068 \r\nQ 947 2378 1403 2484 \r\nz\r\nM 1172 3481 \r\nQ 1172 3119 1398 2916 \r\nQ 1625 2713 2034 2713 \r\nQ 2441 2713 2670 2916 \r\nQ 2900 3119 2900 3481 \r\nQ 2900 3844 2670 4047 \r\nQ 2441 4250 2034 4250 \r\nQ 1625 4250 1398 4047 \r\nQ 1172 3844 1172 3481 \r\nz\r\n\" id=\"DejaVuSans-38\" transform=\"scale(0.015625)\"/>\r\n       </defs>\r\n       <use xlink:href=\"#DejaVuSans-34\"/>\r\n       <use x=\"63.623047\" xlink:href=\"#DejaVuSans-38\"/>\r\n      </g>\r\n     </g>\r\n    </g>\r\n    <g id=\"xtick_2\">\r\n     <g id=\"line2d_3\">\r\n      <path clip-path=\"url(#pab9e8626c2)\" d=\"M 97.943182 224.64 \r\nL 97.943182 7.2 \r\n\" style=\"fill:none;stroke:#b0b0b0;stroke-linecap:square;stroke-width:0.8;\"/>\r\n     </g>\r\n     <g id=\"line2d_4\">\r\n      <g>\r\n       <use style=\"stroke:#000000;stroke-width:0.8;\" x=\"97.943182\" xlink:href=\"#m01f130d562\" y=\"224.64\"/>\r\n      </g>\r\n     </g>\r\n     <g id=\"text_2\">\r\n      <!-- 50 -->\r\n      <g transform=\"translate(91.580682 239.238437)scale(0.1 -0.1)\">\r\n       <defs>\r\n        <path d=\"M 691 4666 \r\nL 3169 4666 \r\nL 3169 4134 \r\nL 1269 4134 \r\nL 1269 2991 \r\nQ 1406 3038 1543 3061 \r\nQ 1681 3084 1819 3084 \r\nQ 2600 3084 3056 2656 \r\nQ 3513 2228 3513 1497 \r\nQ 3513 744 3044 326 \r\nQ 2575 -91 1722 -91 \r\nQ 1428 -91 1123 -41 \r\nQ 819 9 494 109 \r\nL 494 744 \r\nQ 775 591 1075 516 \r\nQ 1375 441 1709 441 \r\nQ 2250 441 2565 725 \r\nQ 2881 1009 2881 1497 \r\nQ 2881 1984 2565 2268 \r\nQ 2250 2553 1709 2553 \r\nQ 1456 2553 1204 2497 \r\nQ 953 2441 691 2322 \r\nL 691 4666 \r\nz\r\n\" id=\"DejaVuSans-35\" transform=\"scale(0.015625)\"/>\r\n        <path d=\"M 2034 4250 \r\nQ 1547 4250 1301 3770 \r\nQ 1056 3291 1056 2328 \r\nQ 1056 1369 1301 889 \r\nQ 1547 409 2034 409 \r\nQ 2525 409 2770 889 \r\nQ 3016 1369 3016 2328 \r\nQ 3016 3291 2770 3770 \r\nQ 2525 4250 2034 4250 \r\nz\r\nM 2034 4750 \r\nQ 2819 4750 3233 4129 \r\nQ 3647 3509 3647 2328 \r\nQ 3647 1150 3233 529 \r\nQ 2819 -91 2034 -91 \r\nQ 1250 -91 836 529 \r\nQ 422 1150 422 2328 \r\nQ 422 3509 836 4129 \r\nQ 1250 4750 2034 4750 \r\nz\r\n\" id=\"DejaVuSans-30\" transform=\"scale(0.015625)\"/>\r\n       </defs>\r\n       <use xlink:href=\"#DejaVuSans-35\"/>\r\n       <use x=\"63.623047\" xlink:href=\"#DejaVuSans-30\"/>\r\n      </g>\r\n     </g>\r\n    </g>\r\n    <g id=\"xtick_3\">\r\n     <g id=\"line2d_5\">\r\n      <path clip-path=\"url(#pab9e8626c2)\" d=\"M 148.670455 224.64 \r\nL 148.670455 7.2 \r\n\" style=\"fill:none;stroke:#b0b0b0;stroke-linecap:square;stroke-width:0.8;\"/>\r\n     </g>\r\n     <g id=\"line2d_6\">\r\n      <g>\r\n       <use style=\"stroke:#000000;stroke-width:0.8;\" x=\"148.670455\" xlink:href=\"#m01f130d562\" y=\"224.64\"/>\r\n      </g>\r\n     </g>\r\n     <g id=\"text_3\">\r\n      <!-- 52 -->\r\n      <g transform=\"translate(142.307955 239.238437)scale(0.1 -0.1)\">\r\n       <defs>\r\n        <path d=\"M 1228 531 \r\nL 3431 531 \r\nL 3431 0 \r\nL 469 0 \r\nL 469 531 \r\nQ 828 903 1448 1529 \r\nQ 2069 2156 2228 2338 \r\nQ 2531 2678 2651 2914 \r\nQ 2772 3150 2772 3378 \r\nQ 2772 3750 2511 3984 \r\nQ 2250 4219 1831 4219 \r\nQ 1534 4219 1204 4116 \r\nQ 875 4013 500 3803 \r\nL 500 4441 \r\nQ 881 4594 1212 4672 \r\nQ 1544 4750 1819 4750 \r\nQ 2544 4750 2975 4387 \r\nQ 3406 4025 3406 3419 \r\nQ 3406 3131 3298 2873 \r\nQ 3191 2616 2906 2266 \r\nQ 2828 2175 2409 1742 \r\nQ 1991 1309 1228 531 \r\nz\r\n\" id=\"DejaVuSans-32\" transform=\"scale(0.015625)\"/>\r\n       </defs>\r\n       <use xlink:href=\"#DejaVuSans-35\"/>\r\n       <use x=\"63.623047\" xlink:href=\"#DejaVuSans-32\"/>\r\n      </g>\r\n     </g>\r\n    </g>\r\n    <g id=\"xtick_4\">\r\n     <g id=\"line2d_7\">\r\n      <path clip-path=\"url(#pab9e8626c2)\" d=\"M 199.397727 224.64 \r\nL 199.397727 7.2 \r\n\" style=\"fill:none;stroke:#b0b0b0;stroke-linecap:square;stroke-width:0.8;\"/>\r\n     </g>\r\n     <g id=\"line2d_8\">\r\n      <g>\r\n       <use style=\"stroke:#000000;stroke-width:0.8;\" x=\"199.397727\" xlink:href=\"#m01f130d562\" y=\"224.64\"/>\r\n      </g>\r\n     </g>\r\n     <g id=\"text_4\">\r\n      <!-- 54 -->\r\n      <g transform=\"translate(193.035227 239.238437)scale(0.1 -0.1)\">\r\n       <use xlink:href=\"#DejaVuSans-35\"/>\r\n       <use x=\"63.623047\" xlink:href=\"#DejaVuSans-34\"/>\r\n      </g>\r\n     </g>\r\n    </g>\r\n    <g id=\"xtick_5\">\r\n     <g id=\"line2d_9\">\r\n      <path clip-path=\"url(#pab9e8626c2)\" d=\"M 250.125 224.64 \r\nL 250.125 7.2 \r\n\" style=\"fill:none;stroke:#b0b0b0;stroke-linecap:square;stroke-width:0.8;\"/>\r\n     </g>\r\n     <g id=\"line2d_10\">\r\n      <g>\r\n       <use style=\"stroke:#000000;stroke-width:0.8;\" x=\"250.125\" xlink:href=\"#m01f130d562\" y=\"224.64\"/>\r\n      </g>\r\n     </g>\r\n     <g id=\"text_5\">\r\n      <!-- 56 -->\r\n      <g transform=\"translate(243.7625 239.238437)scale(0.1 -0.1)\">\r\n       <defs>\r\n        <path d=\"M 2113 2584 \r\nQ 1688 2584 1439 2293 \r\nQ 1191 2003 1191 1497 \r\nQ 1191 994 1439 701 \r\nQ 1688 409 2113 409 \r\nQ 2538 409 2786 701 \r\nQ 3034 994 3034 1497 \r\nQ 3034 2003 2786 2293 \r\nQ 2538 2584 2113 2584 \r\nz\r\nM 3366 4563 \r\nL 3366 3988 \r\nQ 3128 4100 2886 4159 \r\nQ 2644 4219 2406 4219 \r\nQ 1781 4219 1451 3797 \r\nQ 1122 3375 1075 2522 \r\nQ 1259 2794 1537 2939 \r\nQ 1816 3084 2150 3084 \r\nQ 2853 3084 3261 2657 \r\nQ 3669 2231 3669 1497 \r\nQ 3669 778 3244 343 \r\nQ 2819 -91 2113 -91 \r\nQ 1303 -91 875 529 \r\nQ 447 1150 447 2328 \r\nQ 447 3434 972 4092 \r\nQ 1497 4750 2381 4750 \r\nQ 2619 4750 2861 4703 \r\nQ 3103 4656 3366 4563 \r\nz\r\n\" id=\"DejaVuSans-36\" transform=\"scale(0.015625)\"/>\r\n       </defs>\r\n       <use xlink:href=\"#DejaVuSans-35\"/>\r\n       <use x=\"63.623047\" xlink:href=\"#DejaVuSans-36\"/>\r\n      </g>\r\n     </g>\r\n    </g>\r\n    <g id=\"xtick_6\">\r\n     <g id=\"line2d_11\">\r\n      <path clip-path=\"url(#pab9e8626c2)\" d=\"M 300.852273 224.64 \r\nL 300.852273 7.2 \r\n\" style=\"fill:none;stroke:#b0b0b0;stroke-linecap:square;stroke-width:0.8;\"/>\r\n     </g>\r\n     <g id=\"line2d_12\">\r\n      <g>\r\n       <use style=\"stroke:#000000;stroke-width:0.8;\" x=\"300.852273\" xlink:href=\"#m01f130d562\" y=\"224.64\"/>\r\n      </g>\r\n     </g>\r\n     <g id=\"text_6\">\r\n      <!-- 58 -->\r\n      <g transform=\"translate(294.489773 239.238437)scale(0.1 -0.1)\">\r\n       <use xlink:href=\"#DejaVuSans-35\"/>\r\n       <use x=\"63.623047\" xlink:href=\"#DejaVuSans-38\"/>\r\n      </g>\r\n     </g>\r\n    </g>\r\n    <g id=\"xtick_7\">\r\n     <g id=\"line2d_13\">\r\n      <path clip-path=\"url(#pab9e8626c2)\" d=\"M 351.579545 224.64 \r\nL 351.579545 7.2 \r\n\" style=\"fill:none;stroke:#b0b0b0;stroke-linecap:square;stroke-width:0.8;\"/>\r\n     </g>\r\n     <g id=\"line2d_14\">\r\n      <g>\r\n       <use style=\"stroke:#000000;stroke-width:0.8;\" x=\"351.579545\" xlink:href=\"#m01f130d562\" y=\"224.64\"/>\r\n      </g>\r\n     </g>\r\n     <g id=\"text_7\">\r\n      <!-- 60 -->\r\n      <g transform=\"translate(345.217045 239.238437)scale(0.1 -0.1)\">\r\n       <use xlink:href=\"#DejaVuSans-36\"/>\r\n       <use x=\"63.623047\" xlink:href=\"#DejaVuSans-30\"/>\r\n      </g>\r\n     </g>\r\n    </g>\r\n   </g>\r\n   <g id=\"matplotlib.axis_2\">\r\n    <g id=\"ytick_1\">\r\n     <g id=\"line2d_15\">\r\n      <path clip-path=\"url(#pab9e8626c2)\" d=\"M 26.925 224.64 \r\nL 361.725 224.64 \r\n\" style=\"fill:none;stroke:#b0b0b0;stroke-linecap:square;stroke-width:0.8;\"/>\r\n     </g>\r\n     <g id=\"line2d_16\">\r\n      <defs>\r\n       <path d=\"M 0 0 \r\nL -3.5 0 \r\n\" id=\"m63243fc6b9\" style=\"stroke:#000000;stroke-width:0.8;\"/>\r\n      </defs>\r\n      <g>\r\n       <use style=\"stroke:#000000;stroke-width:0.8;\" x=\"26.925\" xlink:href=\"#m63243fc6b9\" y=\"224.64\"/>\r\n      </g>\r\n     </g>\r\n     <g id=\"text_8\">\r\n      <!-- 0 -->\r\n      <g transform=\"translate(13.5625 228.439219)scale(0.1 -0.1)\">\r\n       <use xlink:href=\"#DejaVuSans-30\"/>\r\n      </g>\r\n     </g>\r\n    </g>\r\n    <g id=\"ytick_2\">\r\n     <g id=\"line2d_17\">\r\n      <path clip-path=\"url(#pab9e8626c2)\" d=\"M 26.925 199.385645 \r\nL 361.725 199.385645 \r\n\" style=\"fill:none;stroke:#b0b0b0;stroke-linecap:square;stroke-width:0.8;\"/>\r\n     </g>\r\n     <g id=\"line2d_18\">\r\n      <g>\r\n       <use style=\"stroke:#000000;stroke-width:0.8;\" x=\"26.925\" xlink:href=\"#m63243fc6b9\" y=\"199.385645\"/>\r\n      </g>\r\n     </g>\r\n     <g id=\"text_9\">\r\n      <!-- 5 -->\r\n      <g transform=\"translate(13.5625 203.184863)scale(0.1 -0.1)\">\r\n       <use xlink:href=\"#DejaVuSans-35\"/>\r\n      </g>\r\n     </g>\r\n    </g>\r\n    <g id=\"ytick_3\">\r\n     <g id=\"line2d_19\">\r\n      <path clip-path=\"url(#pab9e8626c2)\" d=\"M 26.925 174.131289 \r\nL 361.725 174.131289 \r\n\" style=\"fill:none;stroke:#b0b0b0;stroke-linecap:square;stroke-width:0.8;\"/>\r\n     </g>\r\n     <g id=\"line2d_20\">\r\n      <g>\r\n       <use style=\"stroke:#000000;stroke-width:0.8;\" x=\"26.925\" xlink:href=\"#m63243fc6b9\" y=\"174.131289\"/>\r\n      </g>\r\n     </g>\r\n     <g id=\"text_10\">\r\n      <!-- 10 -->\r\n      <g transform=\"translate(7.2 177.930508)scale(0.1 -0.1)\">\r\n       <defs>\r\n        <path d=\"M 794 531 \r\nL 1825 531 \r\nL 1825 4091 \r\nL 703 3866 \r\nL 703 4441 \r\nL 1819 4666 \r\nL 2450 4666 \r\nL 2450 531 \r\nL 3481 531 \r\nL 3481 0 \r\nL 794 0 \r\nL 794 531 \r\nz\r\n\" id=\"DejaVuSans-31\" transform=\"scale(0.015625)\"/>\r\n       </defs>\r\n       <use xlink:href=\"#DejaVuSans-31\"/>\r\n       <use x=\"63.623047\" xlink:href=\"#DejaVuSans-30\"/>\r\n      </g>\r\n     </g>\r\n    </g>\r\n    <g id=\"ytick_4\">\r\n     <g id=\"line2d_21\">\r\n      <path clip-path=\"url(#pab9e8626c2)\" d=\"M 26.925 148.876934 \r\nL 361.725 148.876934 \r\n\" style=\"fill:none;stroke:#b0b0b0;stroke-linecap:square;stroke-width:0.8;\"/>\r\n     </g>\r\n     <g id=\"line2d_22\">\r\n      <g>\r\n       <use style=\"stroke:#000000;stroke-width:0.8;\" x=\"26.925\" xlink:href=\"#m63243fc6b9\" y=\"148.876934\"/>\r\n      </g>\r\n     </g>\r\n     <g id=\"text_11\">\r\n      <!-- 15 -->\r\n      <g transform=\"translate(7.2 152.676153)scale(0.1 -0.1)\">\r\n       <use xlink:href=\"#DejaVuSans-31\"/>\r\n       <use x=\"63.623047\" xlink:href=\"#DejaVuSans-35\"/>\r\n      </g>\r\n     </g>\r\n    </g>\r\n    <g id=\"ytick_5\">\r\n     <g id=\"line2d_23\">\r\n      <path clip-path=\"url(#pab9e8626c2)\" d=\"M 26.925 123.622578 \r\nL 361.725 123.622578 \r\n\" style=\"fill:none;stroke:#b0b0b0;stroke-linecap:square;stroke-width:0.8;\"/>\r\n     </g>\r\n     <g id=\"line2d_24\">\r\n      <g>\r\n       <use style=\"stroke:#000000;stroke-width:0.8;\" x=\"26.925\" xlink:href=\"#m63243fc6b9\" y=\"123.622578\"/>\r\n      </g>\r\n     </g>\r\n     <g id=\"text_12\">\r\n      <!-- 20 -->\r\n      <g transform=\"translate(7.2 127.421797)scale(0.1 -0.1)\">\r\n       <use xlink:href=\"#DejaVuSans-32\"/>\r\n       <use x=\"63.623047\" xlink:href=\"#DejaVuSans-30\"/>\r\n      </g>\r\n     </g>\r\n    </g>\r\n    <g id=\"ytick_6\">\r\n     <g id=\"line2d_25\">\r\n      <path clip-path=\"url(#pab9e8626c2)\" d=\"M 26.925 98.368223 \r\nL 361.725 98.368223 \r\n\" style=\"fill:none;stroke:#b0b0b0;stroke-linecap:square;stroke-width:0.8;\"/>\r\n     </g>\r\n     <g id=\"line2d_26\">\r\n      <g>\r\n       <use style=\"stroke:#000000;stroke-width:0.8;\" x=\"26.925\" xlink:href=\"#m63243fc6b9\" y=\"98.368223\"/>\r\n      </g>\r\n     </g>\r\n     <g id=\"text_13\">\r\n      <!-- 25 -->\r\n      <g transform=\"translate(7.2 102.167442)scale(0.1 -0.1)\">\r\n       <use xlink:href=\"#DejaVuSans-32\"/>\r\n       <use x=\"63.623047\" xlink:href=\"#DejaVuSans-35\"/>\r\n      </g>\r\n     </g>\r\n    </g>\r\n    <g id=\"ytick_7\">\r\n     <g id=\"line2d_27\">\r\n      <path clip-path=\"url(#pab9e8626c2)\" d=\"M 26.925 73.113868 \r\nL 361.725 73.113868 \r\n\" style=\"fill:none;stroke:#b0b0b0;stroke-linecap:square;stroke-width:0.8;\"/>\r\n     </g>\r\n     <g id=\"line2d_28\">\r\n      <g>\r\n       <use style=\"stroke:#000000;stroke-width:0.8;\" x=\"26.925\" xlink:href=\"#m63243fc6b9\" y=\"73.113868\"/>\r\n      </g>\r\n     </g>\r\n     <g id=\"text_14\">\r\n      <!-- 30 -->\r\n      <g transform=\"translate(7.2 76.913086)scale(0.1 -0.1)\">\r\n       <defs>\r\n        <path d=\"M 2597 2516 \r\nQ 3050 2419 3304 2112 \r\nQ 3559 1806 3559 1356 \r\nQ 3559 666 3084 287 \r\nQ 2609 -91 1734 -91 \r\nQ 1441 -91 1130 -33 \r\nQ 819 25 488 141 \r\nL 488 750 \r\nQ 750 597 1062 519 \r\nQ 1375 441 1716 441 \r\nQ 2309 441 2620 675 \r\nQ 2931 909 2931 1356 \r\nQ 2931 1769 2642 2001 \r\nQ 2353 2234 1838 2234 \r\nL 1294 2234 \r\nL 1294 2753 \r\nL 1863 2753 \r\nQ 2328 2753 2575 2939 \r\nQ 2822 3125 2822 3475 \r\nQ 2822 3834 2567 4026 \r\nQ 2313 4219 1838 4219 \r\nQ 1578 4219 1281 4162 \r\nQ 984 4106 628 3988 \r\nL 628 4550 \r\nQ 988 4650 1302 4700 \r\nQ 1616 4750 1894 4750 \r\nQ 2613 4750 3031 4423 \r\nQ 3450 4097 3450 3541 \r\nQ 3450 3153 3228 2886 \r\nQ 3006 2619 2597 2516 \r\nz\r\n\" id=\"DejaVuSans-33\" transform=\"scale(0.015625)\"/>\r\n       </defs>\r\n       <use xlink:href=\"#DejaVuSans-33\"/>\r\n       <use x=\"63.623047\" xlink:href=\"#DejaVuSans-30\"/>\r\n      </g>\r\n     </g>\r\n    </g>\r\n    <g id=\"ytick_8\">\r\n     <g id=\"line2d_29\">\r\n      <path clip-path=\"url(#pab9e8626c2)\" d=\"M 26.925 47.859512 \r\nL 361.725 47.859512 \r\n\" style=\"fill:none;stroke:#b0b0b0;stroke-linecap:square;stroke-width:0.8;\"/>\r\n     </g>\r\n     <g id=\"line2d_30\">\r\n      <g>\r\n       <use style=\"stroke:#000000;stroke-width:0.8;\" x=\"26.925\" xlink:href=\"#m63243fc6b9\" y=\"47.859512\"/>\r\n      </g>\r\n     </g>\r\n     <g id=\"text_15\">\r\n      <!-- 35 -->\r\n      <g transform=\"translate(7.2 51.658731)scale(0.1 -0.1)\">\r\n       <use xlink:href=\"#DejaVuSans-33\"/>\r\n       <use x=\"63.623047\" xlink:href=\"#DejaVuSans-35\"/>\r\n      </g>\r\n     </g>\r\n    </g>\r\n    <g id=\"ytick_9\">\r\n     <g id=\"line2d_31\">\r\n      <path clip-path=\"url(#pab9e8626c2)\" d=\"M 26.925 22.605157 \r\nL 361.725 22.605157 \r\n\" style=\"fill:none;stroke:#b0b0b0;stroke-linecap:square;stroke-width:0.8;\"/>\r\n     </g>\r\n     <g id=\"line2d_32\">\r\n      <g>\r\n       <use style=\"stroke:#000000;stroke-width:0.8;\" x=\"26.925\" xlink:href=\"#m63243fc6b9\" y=\"22.605157\"/>\r\n      </g>\r\n     </g>\r\n     <g id=\"text_16\">\r\n      <!-- 40 -->\r\n      <g transform=\"translate(7.2 26.404376)scale(0.1 -0.1)\">\r\n       <use xlink:href=\"#DejaVuSans-34\"/>\r\n       <use x=\"63.623047\" xlink:href=\"#DejaVuSans-30\"/>\r\n      </g>\r\n     </g>\r\n    </g>\r\n   </g>\r\n   <g id=\"patch_13\">\r\n    <path d=\"M 26.925 224.64 \r\nL 26.925 7.2 \r\n\" style=\"fill:none;stroke:#000000;stroke-linecap:square;stroke-linejoin:miter;stroke-width:0.8;\"/>\r\n   </g>\r\n   <g id=\"patch_14\">\r\n    <path d=\"M 361.725 224.64 \r\nL 361.725 7.2 \r\n\" style=\"fill:none;stroke:#000000;stroke-linecap:square;stroke-linejoin:miter;stroke-width:0.8;\"/>\r\n   </g>\r\n   <g id=\"patch_15\">\r\n    <path d=\"M 26.925 224.64 \r\nL 361.725 224.64 \r\n\" style=\"fill:none;stroke:#000000;stroke-linecap:square;stroke-linejoin:miter;stroke-width:0.8;\"/>\r\n   </g>\r\n   <g id=\"patch_16\">\r\n    <path d=\"M 26.925 7.2 \r\nL 361.725 7.2 \r\n\" style=\"fill:none;stroke:#000000;stroke-linecap:square;stroke-linejoin:miter;stroke-width:0.8;\"/>\r\n   </g>\r\n   <g id=\"legend_1\">\r\n    <g id=\"patch_17\">\r\n     <path d=\"M 271.146875 29.878125 \r\nL 354.725 29.878125 \r\nQ 356.725 29.878125 356.725 27.878125 \r\nL 356.725 14.2 \r\nQ 356.725 12.2 354.725 12.2 \r\nL 271.146875 12.2 \r\nQ 269.146875 12.2 269.146875 14.2 \r\nL 269.146875 27.878125 \r\nQ 269.146875 29.878125 271.146875 29.878125 \r\nz\r\n\" style=\"fill:#ffffff;opacity:0.8;stroke:#cccccc;stroke-linejoin:miter;\"/>\r\n    </g>\r\n    <g id=\"patch_18\">\r\n     <path d=\"M 273.146875 23.798437 \r\nL 293.146875 23.798437 \r\nL 293.146875 16.798437 \r\nL 273.146875 16.798437 \r\nz\r\n\" style=\"fill:#86bf91;\"/>\r\n    </g>\r\n    <g id=\"text_17\">\r\n     <!-- symboling -->\r\n     <g transform=\"translate(301.146875 23.798437)scale(0.1 -0.1)\">\r\n      <defs>\r\n       <path d=\"M 2834 3397 \r\nL 2834 2853 \r\nQ 2591 2978 2328 3040 \r\nQ 2066 3103 1784 3103 \r\nQ 1356 3103 1142 2972 \r\nQ 928 2841 928 2578 \r\nQ 928 2378 1081 2264 \r\nQ 1234 2150 1697 2047 \r\nL 1894 2003 \r\nQ 2506 1872 2764 1633 \r\nQ 3022 1394 3022 966 \r\nQ 3022 478 2636 193 \r\nQ 2250 -91 1575 -91 \r\nQ 1294 -91 989 -36 \r\nQ 684 19 347 128 \r\nL 347 722 \r\nQ 666 556 975 473 \r\nQ 1284 391 1588 391 \r\nQ 1994 391 2212 530 \r\nQ 2431 669 2431 922 \r\nQ 2431 1156 2273 1281 \r\nQ 2116 1406 1581 1522 \r\nL 1381 1569 \r\nQ 847 1681 609 1914 \r\nQ 372 2147 372 2553 \r\nQ 372 3047 722 3315 \r\nQ 1072 3584 1716 3584 \r\nQ 2034 3584 2315 3537 \r\nQ 2597 3491 2834 3397 \r\nz\r\n\" id=\"DejaVuSans-73\" transform=\"scale(0.015625)\"/>\r\n       <path d=\"M 2059 -325 \r\nQ 1816 -950 1584 -1140 \r\nQ 1353 -1331 966 -1331 \r\nL 506 -1331 \r\nL 506 -850 \r\nL 844 -850 \r\nQ 1081 -850 1212 -737 \r\nQ 1344 -625 1503 -206 \r\nL 1606 56 \r\nL 191 3500 \r\nL 800 3500 \r\nL 1894 763 \r\nL 2988 3500 \r\nL 3597 3500 \r\nL 2059 -325 \r\nz\r\n\" id=\"DejaVuSans-79\" transform=\"scale(0.015625)\"/>\r\n       <path d=\"M 3328 2828 \r\nQ 3544 3216 3844 3400 \r\nQ 4144 3584 4550 3584 \r\nQ 5097 3584 5394 3201 \r\nQ 5691 2819 5691 2113 \r\nL 5691 0 \r\nL 5113 0 \r\nL 5113 2094 \r\nQ 5113 2597 4934 2840 \r\nQ 4756 3084 4391 3084 \r\nQ 3944 3084 3684 2787 \r\nQ 3425 2491 3425 1978 \r\nL 3425 0 \r\nL 2847 0 \r\nL 2847 2094 \r\nQ 2847 2600 2669 2842 \r\nQ 2491 3084 2119 3084 \r\nQ 1678 3084 1418 2786 \r\nQ 1159 2488 1159 1978 \r\nL 1159 0 \r\nL 581 0 \r\nL 581 3500 \r\nL 1159 3500 \r\nL 1159 2956 \r\nQ 1356 3278 1631 3431 \r\nQ 1906 3584 2284 3584 \r\nQ 2666 3584 2933 3390 \r\nQ 3200 3197 3328 2828 \r\nz\r\n\" id=\"DejaVuSans-6d\" transform=\"scale(0.015625)\"/>\r\n       <path d=\"M 3116 1747 \r\nQ 3116 2381 2855 2742 \r\nQ 2594 3103 2138 3103 \r\nQ 1681 3103 1420 2742 \r\nQ 1159 2381 1159 1747 \r\nQ 1159 1113 1420 752 \r\nQ 1681 391 2138 391 \r\nQ 2594 391 2855 752 \r\nQ 3116 1113 3116 1747 \r\nz\r\nM 1159 2969 \r\nQ 1341 3281 1617 3432 \r\nQ 1894 3584 2278 3584 \r\nQ 2916 3584 3314 3078 \r\nQ 3713 2572 3713 1747 \r\nQ 3713 922 3314 415 \r\nQ 2916 -91 2278 -91 \r\nQ 1894 -91 1617 61 \r\nQ 1341 213 1159 525 \r\nL 1159 0 \r\nL 581 0 \r\nL 581 4863 \r\nL 1159 4863 \r\nL 1159 2969 \r\nz\r\n\" id=\"DejaVuSans-62\" transform=\"scale(0.015625)\"/>\r\n       <path d=\"M 1959 3097 \r\nQ 1497 3097 1228 2736 \r\nQ 959 2375 959 1747 \r\nQ 959 1119 1226 758 \r\nQ 1494 397 1959 397 \r\nQ 2419 397 2687 759 \r\nQ 2956 1122 2956 1747 \r\nQ 2956 2369 2687 2733 \r\nQ 2419 3097 1959 3097 \r\nz\r\nM 1959 3584 \r\nQ 2709 3584 3137 3096 \r\nQ 3566 2609 3566 1747 \r\nQ 3566 888 3137 398 \r\nQ 2709 -91 1959 -91 \r\nQ 1206 -91 779 398 \r\nQ 353 888 353 1747 \r\nQ 353 2609 779 3096 \r\nQ 1206 3584 1959 3584 \r\nz\r\n\" id=\"DejaVuSans-6f\" transform=\"scale(0.015625)\"/>\r\n       <path d=\"M 603 4863 \r\nL 1178 4863 \r\nL 1178 0 \r\nL 603 0 \r\nL 603 4863 \r\nz\r\n\" id=\"DejaVuSans-6c\" transform=\"scale(0.015625)\"/>\r\n       <path d=\"M 603 3500 \r\nL 1178 3500 \r\nL 1178 0 \r\nL 603 0 \r\nL 603 3500 \r\nz\r\nM 603 4863 \r\nL 1178 4863 \r\nL 1178 4134 \r\nL 603 4134 \r\nL 603 4863 \r\nz\r\n\" id=\"DejaVuSans-69\" transform=\"scale(0.015625)\"/>\r\n       <path d=\"M 3513 2113 \r\nL 3513 0 \r\nL 2938 0 \r\nL 2938 2094 \r\nQ 2938 2591 2744 2837 \r\nQ 2550 3084 2163 3084 \r\nQ 1697 3084 1428 2787 \r\nQ 1159 2491 1159 1978 \r\nL 1159 0 \r\nL 581 0 \r\nL 581 3500 \r\nL 1159 3500 \r\nL 1159 2956 \r\nQ 1366 3272 1645 3428 \r\nQ 1925 3584 2291 3584 \r\nQ 2894 3584 3203 3211 \r\nQ 3513 2838 3513 2113 \r\nz\r\n\" id=\"DejaVuSans-6e\" transform=\"scale(0.015625)\"/>\r\n       <path d=\"M 2906 1791 \r\nQ 2906 2416 2648 2759 \r\nQ 2391 3103 1925 3103 \r\nQ 1463 3103 1205 2759 \r\nQ 947 2416 947 1791 \r\nQ 947 1169 1205 825 \r\nQ 1463 481 1925 481 \r\nQ 2391 481 2648 825 \r\nQ 2906 1169 2906 1791 \r\nz\r\nM 3481 434 \r\nQ 3481 -459 3084 -895 \r\nQ 2688 -1331 1869 -1331 \r\nQ 1566 -1331 1297 -1286 \r\nQ 1028 -1241 775 -1147 \r\nL 775 -588 \r\nQ 1028 -725 1275 -790 \r\nQ 1522 -856 1778 -856 \r\nQ 2344 -856 2625 -561 \r\nQ 2906 -266 2906 331 \r\nL 2906 616 \r\nQ 2728 306 2450 153 \r\nQ 2172 0 1784 0 \r\nQ 1141 0 747 490 \r\nQ 353 981 353 1791 \r\nQ 353 2603 747 3093 \r\nQ 1141 3584 1784 3584 \r\nQ 2172 3584 2450 3431 \r\nQ 2728 3278 2906 2969 \r\nL 2906 3500 \r\nL 3481 3500 \r\nL 3481 434 \r\nz\r\n\" id=\"DejaVuSans-67\" transform=\"scale(0.015625)\"/>\r\n      </defs>\r\n      <use xlink:href=\"#DejaVuSans-73\"/>\r\n      <use x=\"52.099609\" xlink:href=\"#DejaVuSans-79\"/>\r\n      <use x=\"111.279297\" xlink:href=\"#DejaVuSans-6d\"/>\r\n      <use x=\"208.691406\" xlink:href=\"#DejaVuSans-62\"/>\r\n      <use x=\"272.167969\" xlink:href=\"#DejaVuSans-6f\"/>\r\n      <use x=\"333.349609\" xlink:href=\"#DejaVuSans-6c\"/>\r\n      <use x=\"361.132812\" xlink:href=\"#DejaVuSans-69\"/>\r\n      <use x=\"388.916016\" xlink:href=\"#DejaVuSans-6e\"/>\r\n      <use x=\"452.294922\" xlink:href=\"#DejaVuSans-67\"/>\r\n     </g>\r\n    </g>\r\n   </g>\r\n  </g>\r\n </g>\r\n <defs>\r\n  <clipPath id=\"pab9e8626c2\">\r\n   <rect height=\"217.44\" width=\"334.8\" x=\"26.925\" y=\"7.2\"/>\r\n  </clipPath>\r\n </defs>\r\n</svg>\r\n",
      "image/png": "[encoded data removed]"
     },
     "metadata": {
      "needs_background": "light"
     }
    }
   ],
   "source": [
    "fig = df['height'].hist(color='#86bf91')        #histogram of height\r\n",
    "plt.legend(df.columns)\r\n",
    "dfsummary = pd.DataFrame(df['height'].describe())\r\n",
    "plt.show"
   ]
  },
  {
   "cell_type": "code",
   "execution_count": 113,
   "metadata": {},
   "outputs": [
    {
     "output_type": "execute_result",
     "data": {
      "text/plain": [
       "fwd    120\n",
       "rwd     76\n",
       "4wd      9\n",
       "Name: drive-wheels, dtype: int64"
      ]
     },
     "metadata": {},
     "execution_count": 113
    }
   ],
   "source": [
    "df['drive-wheels'].value_counts()"
   ]
  },
  {
   "cell_type": "code",
   "execution_count": 114,
   "metadata": {},
   "outputs": [
    {
     "output_type": "execute_result",
     "data": {
      "text/plain": [
       "<AxesSubplot:>"
      ]
     },
     "metadata": {},
     "execution_count": 114
    },
    {
     "output_type": "display_data",
     "data": {
      "text/plain": "<Figure size 432x288 with 1 Axes>",
      "image/svg+xml": "<?xml version=\"1.0\" encoding=\"utf-8\" standalone=\"no\"?>\r\n<!DOCTYPE svg PUBLIC \"-//W3C//DTD SVG 1.1//EN\"\r\n  \"http://www.w3.org/Graphics/SVG/1.1/DTD/svg11.dtd\">\r\n<svg height=\"248.518125pt\" version=\"1.1\" viewBox=\"0 0 377.089062 248.518125\" width=\"377.089062pt\" xmlns=\"http://www.w3.org/2000/svg\" xmlns:xlink=\"http://www.w3.org/1999/xlink\">\r\n <metadata>\r\n  <rdf:RDF xmlns:cc=\"http://creativecommons.org/ns#\" xmlns:dc=\"http://purl.org/dc/elements/1.1/\" xmlns:rdf=\"http://www.w3.org/1999/02/22-rdf-syntax-ns#\">\r\n   <cc:Work>\r\n    <dc:type rdf:resource=\"http://purl.org/dc/dcmitype/StillImage\"/>\r\n    <dc:date>2021-05-04T22:51:42.751394</dc:date>\r\n    <dc:format>image/svg+xml</dc:format>\r\n    <dc:creator>\r\n     <cc:Agent>\r\n      <dc:title>Matplotlib v3.4.1, https://matplotlib.org/</dc:title>\r\n     </cc:Agent>\r\n    </dc:creator>\r\n   </cc:Work>\r\n  </rdf:RDF>\r\n </metadata>\r\n <defs>\r\n  <style type=\"text/css\">*{stroke-linecap:butt;stroke-linejoin:round;}</style>\r\n </defs>\r\n <g id=\"figure_1\">\r\n  <g id=\"patch_1\">\r\n   <path d=\"M 0 248.518125 \r\nL 377.089062 248.518125 \r\nL 377.089062 0 \r\nL 0 0 \r\nz\r\n\" style=\"fill:none;\"/>\r\n  </g>\r\n  <g id=\"axes_1\">\r\n   <g id=\"patch_2\">\r\n    <path d=\"M 35.089063 224.64 \r\nL 369.889063 224.64 \r\nL 369.889063 7.2 \r\nL 35.089063 7.2 \r\nz\r\n\" style=\"fill:#ffffff;\"/>\r\n   </g>\r\n   <g id=\"patch_3\">\r\n    <path clip-path=\"url(#p2e7cbb1f43)\" d=\"M 35.089063 206.52 \r\nL 353.946205 206.52 \r\nL 353.946205 170.28 \r\nL 35.089063 170.28 \r\nz\r\n\" style=\"fill:#1f77b4;\"/>\r\n   </g>\r\n   <g id=\"patch_4\">\r\n    <path clip-path=\"url(#p2e7cbb1f43)\" d=\"M 35.089063 134.04 \r\nL 237.03192 134.04 \r\nL 237.03192 97.8 \r\nL 35.089063 97.8 \r\nz\r\n\" style=\"fill:#1f77b4;\"/>\r\n   </g>\r\n   <g id=\"patch_5\">\r\n    <path clip-path=\"url(#p2e7cbb1f43)\" d=\"M 35.089063 61.56 \r\nL 59.003348 61.56 \r\nL 59.003348 25.32 \r\nL 35.089063 25.32 \r\nz\r\n\" style=\"fill:#1f77b4;\"/>\r\n   </g>\r\n   <g id=\"matplotlib.axis_1\">\r\n    <g id=\"xtick_1\">\r\n     <g id=\"line2d_1\">\r\n      <defs>\r\n       <path d=\"M 0 0 \r\nL 0 3.5 \r\n\" id=\"m27724070dc\" style=\"stroke:#000000;stroke-width:0.8;\"/>\r\n      </defs>\r\n      <g>\r\n       <use style=\"stroke:#000000;stroke-width:0.8;\" x=\"35.089063\" xlink:href=\"#m27724070dc\" y=\"224.64\"/>\r\n      </g>\r\n     </g>\r\n     <g id=\"text_1\">\r\n      <!-- 0 -->\r\n      <g transform=\"translate(31.907813 239.238437)scale(0.1 -0.1)\">\r\n       <defs>\r\n        <path d=\"M 2034 4250 \r\nQ 1547 4250 1301 3770 \r\nQ 1056 3291 1056 2328 \r\nQ 1056 1369 1301 889 \r\nQ 1547 409 2034 409 \r\nQ 2525 409 2770 889 \r\nQ 3016 1369 3016 2328 \r\nQ 3016 3291 2770 3770 \r\nQ 2525 4250 2034 4250 \r\nz\r\nM 2034 4750 \r\nQ 2819 4750 3233 4129 \r\nQ 3647 3509 3647 2328 \r\nQ 3647 1150 3233 529 \r\nQ 2819 -91 2034 -91 \r\nQ 1250 -91 836 529 \r\nQ 422 1150 422 2328 \r\nQ 422 3509 836 4129 \r\nQ 1250 4750 2034 4750 \r\nz\r\n\" id=\"DejaVuSans-30\" transform=\"scale(0.015625)\"/>\r\n       </defs>\r\n       <use xlink:href=\"#DejaVuSans-30\"/>\r\n      </g>\r\n     </g>\r\n    </g>\r\n    <g id=\"xtick_2\">\r\n     <g id=\"line2d_2\">\r\n      <g>\r\n       <use style=\"stroke:#000000;stroke-width:0.8;\" x=\"88.23192\" xlink:href=\"#m27724070dc\" y=\"224.64\"/>\r\n      </g>\r\n     </g>\r\n     <g id=\"text_2\">\r\n      <!-- 20 -->\r\n      <g transform=\"translate(81.86942 239.238437)scale(0.1 -0.1)\">\r\n       <defs>\r\n        <path d=\"M 1228 531 \r\nL 3431 531 \r\nL 3431 0 \r\nL 469 0 \r\nL 469 531 \r\nQ 828 903 1448 1529 \r\nQ 2069 2156 2228 2338 \r\nQ 2531 2678 2651 2914 \r\nQ 2772 3150 2772 3378 \r\nQ 2772 3750 2511 3984 \r\nQ 2250 4219 1831 4219 \r\nQ 1534 4219 1204 4116 \r\nQ 875 4013 500 3803 \r\nL 500 4441 \r\nQ 881 4594 1212 4672 \r\nQ 1544 4750 1819 4750 \r\nQ 2544 4750 2975 4387 \r\nQ 3406 4025 3406 3419 \r\nQ 3406 3131 3298 2873 \r\nQ 3191 2616 2906 2266 \r\nQ 2828 2175 2409 1742 \r\nQ 1991 1309 1228 531 \r\nz\r\n\" id=\"DejaVuSans-32\" transform=\"scale(0.015625)\"/>\r\n       </defs>\r\n       <use xlink:href=\"#DejaVuSans-32\"/>\r\n       <use x=\"63.623047\" xlink:href=\"#DejaVuSans-30\"/>\r\n      </g>\r\n     </g>\r\n    </g>\r\n    <g id=\"xtick_3\">\r\n     <g id=\"line2d_3\">\r\n      <g>\r\n       <use style=\"stroke:#000000;stroke-width:0.8;\" x=\"141.374777\" xlink:href=\"#m27724070dc\" y=\"224.64\"/>\r\n      </g>\r\n     </g>\r\n     <g id=\"text_3\">\r\n      <!-- 40 -->\r\n      <g transform=\"translate(135.012277 239.238437)scale(0.1 -0.1)\">\r\n       <defs>\r\n        <path d=\"M 2419 4116 \r\nL 825 1625 \r\nL 2419 1625 \r\nL 2419 4116 \r\nz\r\nM 2253 4666 \r\nL 3047 4666 \r\nL 3047 1625 \r\nL 3713 1625 \r\nL 3713 1100 \r\nL 3047 1100 \r\nL 3047 0 \r\nL 2419 0 \r\nL 2419 1100 \r\nL 313 1100 \r\nL 313 1709 \r\nL 2253 4666 \r\nz\r\n\" id=\"DejaVuSans-34\" transform=\"scale(0.015625)\"/>\r\n       </defs>\r\n       <use xlink:href=\"#DejaVuSans-34\"/>\r\n       <use x=\"63.623047\" xlink:href=\"#DejaVuSans-30\"/>\r\n      </g>\r\n     </g>\r\n    </g>\r\n    <g id=\"xtick_4\">\r\n     <g id=\"line2d_4\">\r\n      <g>\r\n       <use style=\"stroke:#000000;stroke-width:0.8;\" x=\"194.517634\" xlink:href=\"#m27724070dc\" y=\"224.64\"/>\r\n      </g>\r\n     </g>\r\n     <g id=\"text_4\">\r\n      <!-- 60 -->\r\n      <g transform=\"translate(188.155134 239.238437)scale(0.1 -0.1)\">\r\n       <defs>\r\n        <path d=\"M 2113 2584 \r\nQ 1688 2584 1439 2293 \r\nQ 1191 2003 1191 1497 \r\nQ 1191 994 1439 701 \r\nQ 1688 409 2113 409 \r\nQ 2538 409 2786 701 \r\nQ 3034 994 3034 1497 \r\nQ 3034 2003 2786 2293 \r\nQ 2538 2584 2113 2584 \r\nz\r\nM 3366 4563 \r\nL 3366 3988 \r\nQ 3128 4100 2886 4159 \r\nQ 2644 4219 2406 4219 \r\nQ 1781 4219 1451 3797 \r\nQ 1122 3375 1075 2522 \r\nQ 1259 2794 1537 2939 \r\nQ 1816 3084 2150 3084 \r\nQ 2853 3084 3261 2657 \r\nQ 3669 2231 3669 1497 \r\nQ 3669 778 3244 343 \r\nQ 2819 -91 2113 -91 \r\nQ 1303 -91 875 529 \r\nQ 447 1150 447 2328 \r\nQ 447 3434 972 4092 \r\nQ 1497 4750 2381 4750 \r\nQ 2619 4750 2861 4703 \r\nQ 3103 4656 3366 4563 \r\nz\r\n\" id=\"DejaVuSans-36\" transform=\"scale(0.015625)\"/>\r\n       </defs>\r\n       <use xlink:href=\"#DejaVuSans-36\"/>\r\n       <use x=\"63.623047\" xlink:href=\"#DejaVuSans-30\"/>\r\n      </g>\r\n     </g>\r\n    </g>\r\n    <g id=\"xtick_5\">\r\n     <g id=\"line2d_5\">\r\n      <g>\r\n       <use style=\"stroke:#000000;stroke-width:0.8;\" x=\"247.660491\" xlink:href=\"#m27724070dc\" y=\"224.64\"/>\r\n      </g>\r\n     </g>\r\n     <g id=\"text_5\">\r\n      <!-- 80 -->\r\n      <g transform=\"translate(241.297991 239.238437)scale(0.1 -0.1)\">\r\n       <defs>\r\n        <path d=\"M 2034 2216 \r\nQ 1584 2216 1326 1975 \r\nQ 1069 1734 1069 1313 \r\nQ 1069 891 1326 650 \r\nQ 1584 409 2034 409 \r\nQ 2484 409 2743 651 \r\nQ 3003 894 3003 1313 \r\nQ 3003 1734 2745 1975 \r\nQ 2488 2216 2034 2216 \r\nz\r\nM 1403 2484 \r\nQ 997 2584 770 2862 \r\nQ 544 3141 544 3541 \r\nQ 544 4100 942 4425 \r\nQ 1341 4750 2034 4750 \r\nQ 2731 4750 3128 4425 \r\nQ 3525 4100 3525 3541 \r\nQ 3525 3141 3298 2862 \r\nQ 3072 2584 2669 2484 \r\nQ 3125 2378 3379 2068 \r\nQ 3634 1759 3634 1313 \r\nQ 3634 634 3220 271 \r\nQ 2806 -91 2034 -91 \r\nQ 1263 -91 848 271 \r\nQ 434 634 434 1313 \r\nQ 434 1759 690 2068 \r\nQ 947 2378 1403 2484 \r\nz\r\nM 1172 3481 \r\nQ 1172 3119 1398 2916 \r\nQ 1625 2713 2034 2713 \r\nQ 2441 2713 2670 2916 \r\nQ 2900 3119 2900 3481 \r\nQ 2900 3844 2670 4047 \r\nQ 2441 4250 2034 4250 \r\nQ 1625 4250 1398 4047 \r\nQ 1172 3844 1172 3481 \r\nz\r\n\" id=\"DejaVuSans-38\" transform=\"scale(0.015625)\"/>\r\n       </defs>\r\n       <use xlink:href=\"#DejaVuSans-38\"/>\r\n       <use x=\"63.623047\" xlink:href=\"#DejaVuSans-30\"/>\r\n      </g>\r\n     </g>\r\n    </g>\r\n    <g id=\"xtick_6\">\r\n     <g id=\"line2d_6\">\r\n      <g>\r\n       <use style=\"stroke:#000000;stroke-width:0.8;\" x=\"300.803348\" xlink:href=\"#m27724070dc\" y=\"224.64\"/>\r\n      </g>\r\n     </g>\r\n     <g id=\"text_6\">\r\n      <!-- 100 -->\r\n      <g transform=\"translate(291.259598 239.238437)scale(0.1 -0.1)\">\r\n       <defs>\r\n        <path d=\"M 794 531 \r\nL 1825 531 \r\nL 1825 4091 \r\nL 703 3866 \r\nL 703 4441 \r\nL 1819 4666 \r\nL 2450 4666 \r\nL 2450 531 \r\nL 3481 531 \r\nL 3481 0 \r\nL 794 0 \r\nL 794 531 \r\nz\r\n\" id=\"DejaVuSans-31\" transform=\"scale(0.015625)\"/>\r\n       </defs>\r\n       <use xlink:href=\"#DejaVuSans-31\"/>\r\n       <use x=\"63.623047\" xlink:href=\"#DejaVuSans-30\"/>\r\n       <use x=\"127.246094\" xlink:href=\"#DejaVuSans-30\"/>\r\n      </g>\r\n     </g>\r\n    </g>\r\n    <g id=\"xtick_7\">\r\n     <g id=\"line2d_7\">\r\n      <g>\r\n       <use style=\"stroke:#000000;stroke-width:0.8;\" x=\"353.946205\" xlink:href=\"#m27724070dc\" y=\"224.64\"/>\r\n      </g>\r\n     </g>\r\n     <g id=\"text_7\">\r\n      <!-- 120 -->\r\n      <g transform=\"translate(344.402455 239.238437)scale(0.1 -0.1)\">\r\n       <use xlink:href=\"#DejaVuSans-31\"/>\r\n       <use x=\"63.623047\" xlink:href=\"#DejaVuSans-32\"/>\r\n       <use x=\"127.246094\" xlink:href=\"#DejaVuSans-30\"/>\r\n      </g>\r\n     </g>\r\n    </g>\r\n   </g>\r\n   <g id=\"matplotlib.axis_2\">\r\n    <g id=\"ytick_1\">\r\n     <g id=\"line2d_8\">\r\n      <defs>\r\n       <path d=\"M 0 0 \r\nL -3.5 0 \r\n\" id=\"m43086e6de6\" style=\"stroke:#000000;stroke-width:0.8;\"/>\r\n      </defs>\r\n      <g>\r\n       <use style=\"stroke:#000000;stroke-width:0.8;\" x=\"35.089063\" xlink:href=\"#m43086e6de6\" y=\"188.4\"/>\r\n      </g>\r\n     </g>\r\n     <g id=\"text_8\">\r\n      <!-- fwd -->\r\n      <g transform=\"translate(10.217188 192.199219)scale(0.1 -0.1)\">\r\n       <defs>\r\n        <path d=\"M 2375 4863 \r\nL 2375 4384 \r\nL 1825 4384 \r\nQ 1516 4384 1395 4259 \r\nQ 1275 4134 1275 3809 \r\nL 1275 3500 \r\nL 2222 3500 \r\nL 2222 3053 \r\nL 1275 3053 \r\nL 1275 0 \r\nL 697 0 \r\nL 697 3053 \r\nL 147 3053 \r\nL 147 3500 \r\nL 697 3500 \r\nL 697 3744 \r\nQ 697 4328 969 4595 \r\nQ 1241 4863 1831 4863 \r\nL 2375 4863 \r\nz\r\n\" id=\"DejaVuSans-66\" transform=\"scale(0.015625)\"/>\r\n        <path d=\"M 269 3500 \r\nL 844 3500 \r\nL 1563 769 \r\nL 2278 3500 \r\nL 2956 3500 \r\nL 3675 769 \r\nL 4391 3500 \r\nL 4966 3500 \r\nL 4050 0 \r\nL 3372 0 \r\nL 2619 2869 \r\nL 1863 0 \r\nL 1184 0 \r\nL 269 3500 \r\nz\r\n\" id=\"DejaVuSans-77\" transform=\"scale(0.015625)\"/>\r\n        <path d=\"M 2906 2969 \r\nL 2906 4863 \r\nL 3481 4863 \r\nL 3481 0 \r\nL 2906 0 \r\nL 2906 525 \r\nQ 2725 213 2448 61 \r\nQ 2172 -91 1784 -91 \r\nQ 1150 -91 751 415 \r\nQ 353 922 353 1747 \r\nQ 353 2572 751 3078 \r\nQ 1150 3584 1784 3584 \r\nQ 2172 3584 2448 3432 \r\nQ 2725 3281 2906 2969 \r\nz\r\nM 947 1747 \r\nQ 947 1113 1208 752 \r\nQ 1469 391 1925 391 \r\nQ 2381 391 2643 752 \r\nQ 2906 1113 2906 1747 \r\nQ 2906 2381 2643 2742 \r\nQ 2381 3103 1925 3103 \r\nQ 1469 3103 1208 2742 \r\nQ 947 2381 947 1747 \r\nz\r\n\" id=\"DejaVuSans-64\" transform=\"scale(0.015625)\"/>\r\n       </defs>\r\n       <use xlink:href=\"#DejaVuSans-66\"/>\r\n       <use x=\"33.455078\" xlink:href=\"#DejaVuSans-77\"/>\r\n       <use x=\"115.242188\" xlink:href=\"#DejaVuSans-64\"/>\r\n      </g>\r\n     </g>\r\n    </g>\r\n    <g id=\"ytick_2\">\r\n     <g id=\"line2d_9\">\r\n      <g>\r\n       <use style=\"stroke:#000000;stroke-width:0.8;\" x=\"35.089063\" xlink:href=\"#m43086e6de6\" y=\"115.92\"/>\r\n      </g>\r\n     </g>\r\n     <g id=\"text_9\">\r\n      <!-- rwd -->\r\n      <g transform=\"translate(9.451563 119.719219)scale(0.1 -0.1)\">\r\n       <defs>\r\n        <path d=\"M 2631 2963 \r\nQ 2534 3019 2420 3045 \r\nQ 2306 3072 2169 3072 \r\nQ 1681 3072 1420 2755 \r\nQ 1159 2438 1159 1844 \r\nL 1159 0 \r\nL 581 0 \r\nL 581 3500 \r\nL 1159 3500 \r\nL 1159 2956 \r\nQ 1341 3275 1631 3429 \r\nQ 1922 3584 2338 3584 \r\nQ 2397 3584 2469 3576 \r\nQ 2541 3569 2628 3553 \r\nL 2631 2963 \r\nz\r\n\" id=\"DejaVuSans-72\" transform=\"scale(0.015625)\"/>\r\n       </defs>\r\n       <use xlink:href=\"#DejaVuSans-72\"/>\r\n       <use x=\"41.113281\" xlink:href=\"#DejaVuSans-77\"/>\r\n       <use x=\"122.900391\" xlink:href=\"#DejaVuSans-64\"/>\r\n      </g>\r\n     </g>\r\n    </g>\r\n    <g id=\"ytick_3\">\r\n     <g id=\"line2d_10\">\r\n      <g>\r\n       <use style=\"stroke:#000000;stroke-width:0.8;\" x=\"35.089063\" xlink:href=\"#m43086e6de6\" y=\"43.44\"/>\r\n      </g>\r\n     </g>\r\n     <g id=\"text_10\">\r\n      <!-- 4wd -->\r\n      <g transform=\"translate(7.2 47.239219)scale(0.1 -0.1)\">\r\n       <use xlink:href=\"#DejaVuSans-34\"/>\r\n       <use x=\"63.623047\" xlink:href=\"#DejaVuSans-77\"/>\r\n       <use x=\"145.410156\" xlink:href=\"#DejaVuSans-64\"/>\r\n      </g>\r\n     </g>\r\n    </g>\r\n   </g>\r\n   <g id=\"patch_6\">\r\n    <path d=\"M 35.089063 224.64 \r\nL 35.089063 7.2 \r\n\" style=\"fill:none;stroke:#000000;stroke-linecap:square;stroke-linejoin:miter;stroke-width:0.8;\"/>\r\n   </g>\r\n   <g id=\"patch_7\">\r\n    <path d=\"M 369.889063 224.64 \r\nL 369.889063 7.2 \r\n\" style=\"fill:none;stroke:#000000;stroke-linecap:square;stroke-linejoin:miter;stroke-width:0.8;\"/>\r\n   </g>\r\n   <g id=\"patch_8\">\r\n    <path d=\"M 35.089063 224.64 \r\nL 369.889063 224.64 \r\n\" style=\"fill:none;stroke:#000000;stroke-linecap:square;stroke-linejoin:miter;stroke-width:0.8;\"/>\r\n   </g>\r\n   <g id=\"patch_9\">\r\n    <path d=\"M 35.089063 7.2 \r\nL 369.889063 7.2 \r\n\" style=\"fill:none;stroke:#000000;stroke-linecap:square;stroke-linejoin:miter;stroke-width:0.8;\"/>\r\n   </g>\r\n  </g>\r\n </g>\r\n <defs>\r\n  <clipPath id=\"p2e7cbb1f43\">\r\n   <rect height=\"217.44\" width=\"334.8\" x=\"35.089063\" y=\"7.2\"/>\r\n  </clipPath>\r\n </defs>\r\n</svg>\r\n",
      "image/png": "[encoded data removed]"
     },
     "metadata": {
      "needs_background": "light"
     }
    }
   ],
   "source": [
    "df['drive-wheels'].value_counts().plot(kind='barh')             # the bar plot"
   ]
  },
  {
   "cell_type": "code",
   "execution_count": 140,
   "metadata": {},
   "outputs": [
    {
     "output_type": "execute_result",
     "data": {
      "text/plain": [
       "<function matplotlib.pyplot.show(close=None, block=None)>"
      ]
     },
     "metadata": {},
     "execution_count": 140
    },
    {
     "output_type": "display_data",
     "data": {
      "text/plain": "<Figure size 432x288 with 1 Axes>",
      "image/svg+xml": "<?xml version=\"1.0\" encoding=\"utf-8\" standalone=\"no\"?>\r\n<!DOCTYPE svg PUBLIC \"-//W3C//DTD SVG 1.1//EN\"\r\n  \"http://www.w3.org/Graphics/SVG/1.1/DTD/svg11.dtd\">\r\n<svg height=\"248.518125pt\" version=\"1.1\" viewBox=\"0 0 388.0125 248.518125\" width=\"388.0125pt\" xmlns=\"http://www.w3.org/2000/svg\" xmlns:xlink=\"http://www.w3.org/1999/xlink\">\r\n <metadata>\r\n  <rdf:RDF xmlns:cc=\"http://creativecommons.org/ns#\" xmlns:dc=\"http://purl.org/dc/elements/1.1/\" xmlns:rdf=\"http://www.w3.org/1999/02/22-rdf-syntax-ns#\">\r\n   <cc:Work>\r\n    <dc:type rdf:resource=\"http://purl.org/dc/dcmitype/StillImage\"/>\r\n    <dc:date>2021-05-04T23:14:19.466783</dc:date>\r\n    <dc:format>image/svg+xml</dc:format>\r\n    <dc:creator>\r\n     <cc:Agent>\r\n      <dc:title>Matplotlib v3.4.1, https://matplotlib.org/</dc:title>\r\n     </cc:Agent>\r\n    </dc:creator>\r\n   </cc:Work>\r\n  </rdf:RDF>\r\n </metadata>\r\n <defs>\r\n  <style type=\"text/css\">*{stroke-linecap:butt;stroke-linejoin:round;}</style>\r\n </defs>\r\n <g id=\"figure_1\">\r\n  <g id=\"patch_1\">\r\n   <path d=\"M 0 248.518125 \r\nL 388.0125 248.518125 \r\nL 388.0125 0 \r\nL 0 0 \r\nz\r\n\" style=\"fill:none;\"/>\r\n  </g>\r\n  <g id=\"axes_1\">\r\n   <g id=\"patch_2\">\r\n    <path d=\"M 46.0125 224.64 \r\nL 380.8125 224.64 \r\nL 380.8125 7.2 \r\nL 46.0125 7.2 \r\nz\r\n\" style=\"fill:#ffffff;\"/>\r\n   </g>\r\n   <g id=\"PathCollection_1\">\r\n    <defs>\r\n     <path d=\"M 0 3 \r\nC 0.795609 3 1.55874 2.683901 2.12132 2.12132 \r\nC 2.683901 1.55874 3 0.795609 3 0 \r\nC 3 -0.795609 2.683901 -1.55874 2.12132 -2.12132 \r\nC 1.55874 -2.683901 0.795609 -3 0 -3 \r\nC -0.795609 -3 -1.55874 -2.683901 -2.12132 -2.12132 \r\nC -2.683901 -1.55874 -3 -0.795609 -3 0 \r\nC -3 0.795609 -2.683901 1.55874 -2.12132 2.12132 \r\nC -1.55874 2.683901 -0.795609 3 0 3 \r\nz\r\n\" id=\"mad6b60b173\" style=\"stroke:#1f77b4;\"/>\r\n    </defs>\r\n    <g clip-path=\"url(#p2f988f8f38)\">\r\n     <use style=\"fill:#1f77b4;stroke:#1f77b4;\" x=\"86.594318\" xlink:href=\"#mad6b60b173\" y=\"173.648563\"/>\r\n     <use style=\"fill:#1f77b4;stroke:#1f77b4;\" x=\"86.594318\" xlink:href=\"#mad6b60b173\" y=\"158.90236\"/>\r\n     <use style=\"fill:#1f77b4;stroke:#1f77b4;\" x=\"177.903409\" xlink:href=\"#mad6b60b173\" y=\"158.90236\"/>\r\n     <use style=\"fill:#1f77b4;stroke:#1f77b4;\" x=\"226.094318\" xlink:href=\"#mad6b60b173\" y=\"171.415777\"/>\r\n     <use style=\"fill:#1f77b4;stroke:#1f77b4;\" x=\"226.094318\" xlink:href=\"#mad6b60b173\" y=\"154.240499\"/>\r\n     <use style=\"fill:#1f77b4;stroke:#1f77b4;\" x=\"195.657955\" xlink:href=\"#mad6b60b173\" y=\"165.036388\"/>\r\n     <use style=\"fill:#1f77b4;stroke:#1f77b4;\" x=\"261.603409\" xlink:href=\"#mad6b60b173\" y=\"152.964621\"/>\r\n     <use style=\"fill:#1f77b4;stroke:#1f77b4;\" x=\"261.603409\" xlink:href=\"#mad6b60b173\" y=\"147.026882\"/>\r\n     <use style=\"fill:#1f77b4;stroke:#1f77b4;\" x=\"266.676136\" xlink:href=\"#mad6b60b173\" y=\"122.711596\"/>\r\n     <use style=\"fill:#1f77b4;stroke:#1f77b4;\" x=\"167.757955\" xlink:href=\"#mad6b60b173\" y=\"189.351674\"/>\r\n     <use style=\"fill:#1f77b4;stroke:#1f77b4;\" x=\"226.094318\" xlink:href=\"#mad6b60b173\" y=\"159.245865\"/>\r\n     <use style=\"fill:#1f77b4;stroke:#1f77b4;\" x=\"226.094318\" xlink:href=\"#mad6b60b173\" y=\"156.81679\"/>\r\n     <use style=\"fill:#1f77b4;stroke:#1f77b4;\" x=\"226.094318\" xlink:href=\"#mad6b60b173\" y=\"136.967076\"/>\r\n     <use style=\"fill:#1f77b4;stroke:#1f77b4;\" x=\"226.094318\" xlink:href=\"#mad6b60b173\" y=\"136.304601\"/>\r\n     <use style=\"fill:#1f77b4;stroke:#1f77b4;\" x=\"261.603409\" xlink:href=\"#mad6b60b173\" y=\"119.325612\"/>\r\n     <use style=\"fill:#1f77b4;stroke:#1f77b4;\" x=\"261.603409\" xlink:href=\"#mad6b60b173\" y=\"88.92537\"/>\r\n     <use style=\"fill:#1f77b4;stroke:#1f77b4;\" x=\"210.876136\" xlink:href=\"#mad6b60b173\" y=\"37.129639\"/>\r\n     <use style=\"fill:#1f77b4;stroke:#1f77b4;\" x=\"276.821591\" xlink:href=\"#mad6b60b173\" y=\"58.89317\"/>\r\n     <use style=\"fill:#1f77b4;stroke:#1f77b4;\" x=\"198.194318\" xlink:href=\"#mad6b60b173\" y=\"214.594425\"/>\r\n     <use style=\"fill:#1f77b4;stroke:#1f77b4;\" x=\"167.757955\" xlink:href=\"#mad6b60b173\" y=\"208.980563\"/>\r\n     <use style=\"fill:#1f77b4;stroke:#1f77b4;\" x=\"167.757955\" xlink:href=\"#mad6b60b173\" y=\"207.606541\"/>\r\n     <use style=\"fill:#1f77b4;stroke:#1f77b4;\" x=\"137.321591\" xlink:href=\"#mad6b60b173\" y=\"212.528485\"/>\r\n     <use style=\"fill:#1f77b4;stroke:#1f77b4;\" x=\"137.321591\" xlink:href=\"#mad6b60b173\" y=\"208.578171\"/>\r\n     <use style=\"fill:#1f77b4;stroke:#1f77b4;\" x=\"137.321591\" xlink:href=\"#mad6b60b173\" y=\"200.82476\"/>\r\n     <use style=\"fill:#1f77b4;stroke:#1f77b4;\" x=\"132.248864\" xlink:href=\"#mad6b60b173\" y=\"209.30444\"/>\r\n     <use style=\"fill:#1f77b4;stroke:#1f77b4;\" x=\"132.248864\" xlink:href=\"#mad6b60b173\" y=\"207.032396\"/>\r\n     <use style=\"fill:#1f77b4;stroke:#1f77b4;\" x=\"132.248864\" xlink:href=\"#mad6b60b173\" y=\"202.532473\"/>\r\n     <use style=\"fill:#1f77b4;stroke:#1f77b4;\" x=\"132.248864\" xlink:href=\"#mad6b60b173\" y=\"197.875519\"/>\r\n     <use style=\"fill:#1f77b4;stroke:#1f77b4;\" x=\"365.594318\" xlink:href=\"#mad6b60b173\" y=\"196.094197\"/>\r\n     <use style=\"fill:#1f77b4;stroke:#1f77b4;\" x=\"122.103409\" xlink:href=\"#mad6b60b173\" y=\"176.254298\"/>\r\n     <use style=\"fill:#1f77b4;stroke:#1f77b4;\" x=\"137.321591\" xlink:href=\"#mad6b60b173\" y=\"208.077634\"/>\r\n     <use style=\"fill:#1f77b4;stroke:#1f77b4;\" x=\"137.321591\" xlink:href=\"#mad6b60b173\" y=\"206.232519\"/>\r\n     <use style=\"fill:#1f77b4;stroke:#1f77b4;\" x=\"182.976136\" xlink:href=\"#mad6b60b173\" y=\"213.377434\"/>\r\n     <use style=\"fill:#1f77b4;stroke:#1f77b4;\" x=\"182.976136\" xlink:href=\"#mad6b60b173\" y=\"207.832273\"/>\r\n     <use style=\"fill:#1f77b4;stroke:#1f77b4;\" x=\"182.976136\" xlink:href=\"#mad6b60b173\" y=\"204.88794\"/>\r\n     <use style=\"fill:#1f77b4;stroke:#1f77b4;\" x=\"231.167045\" xlink:href=\"#mad6b60b173\" y=\"204.073341\"/>\r\n     <use style=\"fill:#1f77b4;stroke:#1f77b4;\" x=\"327.548864\" xlink:href=\"#mad6b60b173\" y=\"204.073341\"/>\r\n     <use style=\"fill:#1f77b4;stroke:#1f77b4;\" x=\"200.730682\" xlink:href=\"#mad6b60b173\" y=\"201.129007\"/>\r\n     <use style=\"fill:#1f77b4;stroke:#1f77b4;\" x=\"200.730682\" xlink:href=\"#mad6b60b173\" y=\"195.240341\"/>\r\n     <use style=\"fill:#1f77b4;stroke:#1f77b4;\" x=\"221.021591\" xlink:href=\"#mad6b60b173\" y=\"196.467146\"/>\r\n     <use style=\"fill:#1f77b4;stroke:#1f77b4;\" x=\"221.021591\" xlink:href=\"#mad6b60b173\" y=\"189.351674\"/>\r\n     <use style=\"fill:#1f77b4;stroke:#1f77b4;\" x=\"221.021591\" xlink:href=\"#mad6b60b173\" y=\"176.347535\"/>\r\n     <use style=\"fill:#1f77b4;stroke:#1f77b4;\" x=\"142.394318\" xlink:href=\"#mad6b60b173\" y=\"189.106313\"/>\r\n     <use style=\"fill:#1f77b4;stroke:#1f77b4;\" x=\"205.803409\" xlink:href=\"#mad6b60b173\" y=\"206.576024\"/>\r\n     <use style=\"fill:#1f77b4;stroke:#1f77b4;\" x=\"167.757955\" xlink:href=\"#mad6b60b173\" y=\"189.351674\"/>\r\n     <use style=\"fill:#1f77b4;stroke:#1f77b4;\" x=\"167.757955\" xlink:href=\"#mad6b60b173\" y=\"189.351674\"/>\r\n     <use style=\"fill:#1f77b4;stroke:#1f77b4;\" x=\"152.539773\" xlink:href=\"#mad6b60b173\" y=\"185.656536\"/>\r\n     <use style=\"fill:#1f77b4;stroke:#1f77b4;\" x=\"188.048864\" xlink:href=\"#mad6b60b173\" y=\"81.613609\"/>\r\n     <use style=\"fill:#1f77b4;stroke:#1f77b4;\" x=\"188.048864\" xlink:href=\"#mad6b60b173\" y=\"65.419776\"/>\r\n     <use style=\"fill:#1f77b4;stroke:#1f77b4;\" x=\"61.230682\" xlink:href=\"#mad6b60b173\" y=\"63.211526\"/>\r\n     <use style=\"fill:#1f77b4;stroke:#1f77b4;\" x=\"221.021591\" xlink:href=\"#mad6b60b173\" y=\"214.378508\"/>\r\n     <use style=\"fill:#1f77b4;stroke:#1f77b4;\" x=\"221.021591\" xlink:href=\"#mad6b60b173\" y=\"209.962007\"/>\r\n     <use style=\"fill:#1f77b4;stroke:#1f77b4;\" x=\"221.021591\" xlink:href=\"#mad6b60b173\" y=\"206.526952\"/>\r\n     <use style=\"fill:#1f77b4;stroke:#1f77b4;\" x=\"221.021591\" xlink:href=\"#mad6b60b173\" y=\"207.017674\"/>\r\n     <use style=\"fill:#1f77b4;stroke:#1f77b4;\" x=\"221.021591\" xlink:href=\"#mad6b60b173\" y=\"203.582619\"/>\r\n     <use style=\"fill:#1f77b4;stroke:#1f77b4;\" x=\"106.885227\" xlink:href=\"#mad6b60b173\" y=\"186.161979\"/>\r\n     <use style=\"fill:#1f77b4;stroke:#1f77b4;\" x=\"106.885227\" xlink:href=\"#mad6b60b173\" y=\"181.745479\"/>\r\n     <use style=\"fill:#1f77b4;stroke:#1f77b4;\" x=\"106.885227\" xlink:href=\"#mad6b60b173\" y=\"172.912479\"/>\r\n     <use style=\"fill:#1f77b4;stroke:#1f77b4;\" x=\"106.885227\" xlink:href=\"#mad6b60b173\" y=\"163.098035\"/>\r\n     <use style=\"fill:#1f77b4;stroke:#1f77b4;\" x=\"210.876136\" xlink:href=\"#mad6b60b173\" y=\"196.467146\"/>\r\n     <use style=\"fill:#1f77b4;stroke:#1f77b4;\" x=\"256.530682\" xlink:href=\"#mad6b60b173\" y=\"198.184674\"/>\r\n     <use style=\"fill:#1f77b4;stroke:#1f77b4;\" x=\"210.876136\" xlink:href=\"#mad6b60b173\" y=\"187.879507\"/>\r\n     <use style=\"fill:#1f77b4;stroke:#1f77b4;\" x=\"256.530682\" xlink:href=\"#mad6b60b173\" y=\"189.597035\"/>\r\n     <use style=\"fill:#1f77b4;stroke:#1f77b4;\" x=\"256.530682\" xlink:href=\"#mad6b60b173\" y=\"186.898063\"/>\r\n     <use style=\"fill:#1f77b4;stroke:#1f77b4;\" x=\"256.530682\" xlink:href=\"#mad6b60b173\" y=\"184.689813\"/>\r\n     <use style=\"fill:#1f77b4;stroke:#1f77b4;\" x=\"228.630682\" xlink:href=\"#mad6b60b173\" y=\"150.167504\"/>\r\n     <use style=\"fill:#1f77b4;stroke:#1f77b4;\" x=\"228.630682\" xlink:href=\"#mad6b60b173\" y=\"149.853442\"/>\r\n     <use style=\"fill:#1f77b4;stroke:#1f77b4;\" x=\"281.894318\" xlink:href=\"#mad6b60b173\" y=\"114.482184\"/>\r\n     <use style=\"fill:#1f77b4;stroke:#1f77b4;\" x=\"337.694318\" xlink:href=\"#mad6b60b173\" y=\"101.252313\"/>\r\n     <use style=\"fill:#1f77b4;stroke:#1f77b4;\" x=\"241.3125\" xlink:href=\"#mad6b60b173\" y=\"101.605633\"/>\r\n     <use style=\"fill:#1f77b4;stroke:#1f77b4;\" x=\"276.821591\" xlink:href=\"#mad6b60b173\" y=\"84.803304\"/>\r\n     <use style=\"fill:#1f77b4;stroke:#1f77b4;\" x=\"281.894318\" xlink:href=\"#mad6b60b173\" y=\"72.123041\"/>\r\n     <use style=\"fill:#1f77b4;stroke:#1f77b4;\" x=\"137.321591\" xlink:href=\"#mad6b60b173\" y=\"67.843943\"/>\r\n     <use style=\"fill:#1f77b4;stroke:#1f77b4;\" x=\"286.967045\" xlink:href=\"#mad6b60b173\" y=\"38.871703\"/>\r\n     <use style=\"fill:#1f77b4;stroke:#1f77b4;\" x=\"253.994318\" xlink:href=\"#mad6b60b173\" y=\"17.083636\"/>\r\n     <use style=\"fill:#1f77b4;stroke:#1f77b4;\" x=\"238.776136\" xlink:href=\"#mad6b60b173\" y=\"158.887638\"/>\r\n     <use style=\"fill:#1f77b4;stroke:#1f77b4;\" x=\"137.321591\" xlink:href=\"#mad6b60b173\" y=\"213.426506\"/>\r\n     <use style=\"fill:#1f77b4;stroke:#1f77b4;\" x=\"137.321591\" xlink:href=\"#mad6b60b173\" y=\"209.500729\"/>\r\n     <use style=\"fill:#1f77b4;stroke:#1f77b4;\" x=\"137.321591\" xlink:href=\"#mad6b60b173\" y=\"207.145262\"/>\r\n     <use style=\"fill:#1f77b4;stroke:#1f77b4;\" x=\"137.321591\" xlink:href=\"#mad6b60b173\" y=\"202.139895\"/>\r\n     <use style=\"fill:#1f77b4;stroke:#1f77b4;\" x=\"101.8125\" xlink:href=\"#mad6b60b173\" y=\"191.000501\"/>\r\n     <use style=\"fill:#1f77b4;stroke:#1f77b4;\" x=\"101.8125\" xlink:href=\"#mad6b60b173\" y=\"198.165045\"/>\r\n     <use style=\"fill:#1f77b4;stroke:#1f77b4;\" x=\"122.103409\" xlink:href=\"#mad6b60b173\" y=\"177.898217\"/>\r\n     <use style=\"fill:#1f77b4;stroke:#1f77b4;\" x=\"122.103409\" xlink:href=\"#mad6b60b173\" y=\"166.906039\"/>\r\n     <use style=\"fill:#1f77b4;stroke:#1f77b4;\" x=\"122.103409\" xlink:href=\"#mad6b60b173\" y=\"168.770784\"/>\r\n     <use style=\"fill:#1f77b4;stroke:#1f77b4;\" x=\"157.6125\" xlink:href=\"#mad6b60b173\" y=\"205.574951\"/>\r\n     <use style=\"fill:#1f77b4;stroke:#1f77b4;\" x=\"157.6125\" xlink:href=\"#mad6b60b173\" y=\"199.686284\"/>\r\n     <use style=\"fill:#1f77b4;stroke:#1f77b4;\" x=\"157.6125\" xlink:href=\"#mad6b60b173\" y=\"194.337412\"/>\r\n     <use style=\"fill:#1f77b4;stroke:#1f77b4;\" x=\"157.6125\" xlink:href=\"#mad6b60b173\" y=\"194.337412\"/>\r\n     <use style=\"fill:#1f77b4;stroke:#1f77b4;\" x=\"231.167045\" xlink:href=\"#mad6b60b173\" y=\"212.886712\"/>\r\n     <use style=\"fill:#1f77b4;stroke:#1f77b4;\" x=\"231.167045\" xlink:href=\"#mad6b60b173\" y=\"205.035156\"/>\r\n     <use style=\"fill:#1f77b4;stroke:#1f77b4;\" x=\"231.167045\" xlink:href=\"#mad6b60b173\" y=\"207.243406\"/>\r\n     <use style=\"fill:#1f77b4;stroke:#1f77b4;\" x=\"231.167045\" xlink:href=\"#mad6b60b173\" y=\"206.261962\"/>\r\n     <use style=\"fill:#1f77b4;stroke:#1f77b4;\" x=\"205.803409\" xlink:href=\"#mad6b60b173\" y=\"203.808351\"/>\r\n     <use style=\"fill:#1f77b4;stroke:#1f77b4;\" x=\"231.167045\" xlink:href=\"#mad6b60b173\" y=\"204.053712\"/>\r\n     <use style=\"fill:#1f77b4;stroke:#1f77b4;\" x=\"200.730682\" xlink:href=\"#mad6b60b173\" y=\"201.600101\"/>\r\n     <use style=\"fill:#1f77b4;stroke:#1f77b4;\" x=\"231.167045\" xlink:href=\"#mad6b60b173\" y=\"203.072267\"/>\r\n     <use style=\"fill:#1f77b4;stroke:#1f77b4;\" x=\"205.803409\" xlink:href=\"#mad6b60b173\" y=\"200.618656\"/>\r\n     <use style=\"fill:#1f77b4;stroke:#1f77b4;\" x=\"200.730682\" xlink:href=\"#mad6b60b173\" y=\"199.391851\"/>\r\n     <use style=\"fill:#1f77b4;stroke:#1f77b4;\" x=\"236.239773\" xlink:href=\"#mad6b60b173\" y=\"195.956795\"/>\r\n     <use style=\"fill:#1f77b4;stroke:#1f77b4;\" x=\"236.239773\" xlink:href=\"#mad6b60b173\" y=\"193.012462\"/>\r\n     <use style=\"fill:#1f77b4;stroke:#1f77b4;\" x=\"246.385227\" xlink:href=\"#mad6b60b173\" y=\"173.628934\"/>\r\n     <use style=\"fill:#1f77b4;stroke:#1f77b4;\" x=\"271.748864\" xlink:href=\"#mad6b60b173\" y=\"169.212434\"/>\r\n     <use style=\"fill:#1f77b4;stroke:#1f77b4;\" x=\"246.385227\" xlink:href=\"#mad6b60b173\" y=\"173.628934\"/>\r\n     <use style=\"fill:#1f77b4;stroke:#1f77b4;\" x=\"109.421591\" xlink:href=\"#mad6b60b173\" y=\"155.472211\"/>\r\n     <use style=\"fill:#1f77b4;stroke:#1f77b4;\" x=\"109.421591\" xlink:href=\"#mad6b60b173\" y=\"143.204156\"/>\r\n     <use style=\"fill:#1f77b4;stroke:#1f77b4;\" x=\"109.421591\" xlink:href=\"#mad6b60b173\" y=\"149.583545\"/>\r\n     <use style=\"fill:#1f77b4;stroke:#1f77b4;\" x=\"286.967045\" xlink:href=\"#mad6b60b173\" y=\"181.475582\"/>\r\n     <use style=\"fill:#1f77b4;stroke:#1f77b4;\" x=\"286.967045\" xlink:href=\"#mad6b60b173\" y=\"175.096193\"/>\r\n     <use style=\"fill:#1f77b4;stroke:#1f77b4;\" x=\"337.694318\" xlink:href=\"#mad6b60b173\" y=\"178.825682\"/>\r\n     <use style=\"fill:#1f77b4;stroke:#1f77b4;\" x=\"337.694318\" xlink:href=\"#mad6b60b173\" y=\"171.857427\"/>\r\n     <use style=\"fill:#1f77b4;stroke:#1f77b4;\" x=\"286.967045\" xlink:href=\"#mad6b60b173\" y=\"163.417004\"/>\r\n     <use style=\"fill:#1f77b4;stroke:#1f77b4;\" x=\"286.967045\" xlink:href=\"#mad6b60b173\" y=\"156.939471\"/>\r\n     <use style=\"fill:#1f77b4;stroke:#1f77b4;\" x=\"286.967045\" xlink:href=\"#mad6b60b173\" y=\"157.945451\"/>\r\n     <use style=\"fill:#1f77b4;stroke:#1f77b4;\" x=\"337.694318\" xlink:href=\"#mad6b60b173\" y=\"156.080707\"/>\r\n     <use style=\"fill:#1f77b4;stroke:#1f77b4;\" x=\"286.967045\" xlink:href=\"#mad6b60b173\" y=\"158.264421\"/>\r\n     <use style=\"fill:#1f77b4;stroke:#1f77b4;\" x=\"286.967045\" xlink:href=\"#mad6b60b173\" y=\"151.786888\"/>\r\n     <use style=\"fill:#1f77b4;stroke:#1f77b4;\" x=\"269.2125\" xlink:href=\"#mad6b60b173\" y=\"150.805443\"/>\r\n     <use style=\"fill:#1f77b4;stroke:#1f77b4;\" x=\"137.321591\" xlink:href=\"#mad6b60b173\" y=\"212.528485\"/>\r\n     <use style=\"fill:#1f77b4;stroke:#1f77b4;\" x=\"137.321591\" xlink:href=\"#mad6b60b173\" y=\"200.82476\"/>\r\n     <use style=\"fill:#1f77b4;stroke:#1f77b4;\" x=\"132.248864\" xlink:href=\"#mad6b60b173\" y=\"209.30444\"/>\r\n     <use style=\"fill:#1f77b4;stroke:#1f77b4;\" x=\"137.321591\" xlink:href=\"#mad6b60b173\" y=\"207.032396\"/>\r\n     <use style=\"fill:#1f77b4;stroke:#1f77b4;\" x=\"137.321591\" xlink:href=\"#mad6b60b173\" y=\"202.532473\"/>\r\n     <use style=\"fill:#1f77b4;stroke:#1f77b4;\" x=\"365.594318\" xlink:href=\"#mad6b60b173\" y=\"196.094197\"/>\r\n     <use style=\"fill:#1f77b4;stroke:#1f77b4;\" x=\"122.103409\" xlink:href=\"#mad6b60b173\" y=\"177.235742\"/>\r\n     <use style=\"fill:#1f77b4;stroke:#1f77b4;\" x=\"122.103409\" xlink:href=\"#mad6b60b173\" y=\"131.824307\"/>\r\n     <use style=\"fill:#1f77b4;stroke:#1f77b4;\" x=\"157.6125\" xlink:href=\"#mad6b60b173\" y=\"80.249401\"/>\r\n     <use style=\"fill:#1f77b4;stroke:#1f77b4;\" x=\"157.6125\" xlink:href=\"#mad6b60b173\" y=\"72.888568\"/>\r\n     <use style=\"fill:#1f77b4;stroke:#1f77b4;\" x=\"157.6125\" xlink:href=\"#mad6b60b173\" y=\"58.166901\"/>\r\n     <use style=\"fill:#1f77b4;stroke:#1f77b4;\" x=\"129.7125\" xlink:href=\"#mad6b60b173\" y=\"189.351674\"/>\r\n     <use style=\"fill:#1f77b4;stroke:#1f77b4;\" x=\"248.921591\" xlink:href=\"#mad6b60b173\" y=\"194.258896\"/>\r\n     <use style=\"fill:#1f77b4;stroke:#1f77b4;\" x=\"129.7125\" xlink:href=\"#mad6b60b173\" y=\"191.314563\"/>\r\n     <use style=\"fill:#1f77b4;stroke:#1f77b4;\" x=\"271.748864\" xlink:href=\"#mad6b60b173\" y=\"181.720943\"/>\r\n     <use style=\"fill:#1f77b4;stroke:#1f77b4;\" x=\"271.748864\" xlink:href=\"#mad6b60b173\" y=\"180.150632\"/>\r\n     <use style=\"fill:#1f77b4;stroke:#1f77b4;\" x=\"271.748864\" xlink:href=\"#mad6b60b173\" y=\"166.066904\"/>\r\n     <use style=\"fill:#1f77b4;stroke:#1f77b4;\" x=\"271.748864\" xlink:href=\"#mad6b60b173\" y=\"163.76051\"/>\r\n     <use style=\"fill:#1f77b4;stroke:#1f77b4;\" x=\"271.748864\" xlink:href=\"#mad6b60b173\" y=\"150.805443\"/>\r\n     <use style=\"fill:#1f77b4;stroke:#1f77b4;\" x=\"271.748864\" xlink:href=\"#mad6b60b173\" y=\"148.499049\"/>\r\n     <use style=\"fill:#1f77b4;stroke:#1f77b4;\" x=\"210.876136\" xlink:href=\"#mad6b60b173\" y=\"214.756364\"/>\r\n     <use style=\"fill:#1f77b4;stroke:#1f77b4;\" x=\"210.876136\" xlink:href=\"#mad6b60b173\" y=\"205.260889\"/>\r\n     <use style=\"fill:#1f77b4;stroke:#1f77b4;\" x=\"261.603409\" xlink:href=\"#mad6b60b173\" y=\"202.561916\"/>\r\n     <use style=\"fill:#1f77b4;stroke:#1f77b4;\" x=\"180.439773\" xlink:href=\"#mad6b60b173\" y=\"204.902661\"/>\r\n     <use style=\"fill:#1f77b4;stroke:#1f77b4;\" x=\"180.439773\" xlink:href=\"#mad6b60b173\" y=\"201.717874\"/>\r\n     <use style=\"fill:#1f77b4;stroke:#1f77b4;\" x=\"180.439773\" xlink:href=\"#mad6b60b173\" y=\"190.995593\"/>\r\n     <use style=\"fill:#1f77b4;stroke:#1f77b4;\" x=\"226.094318\" xlink:href=\"#mad6b60b173\" y=\"194.563144\"/>\r\n     <use style=\"fill:#1f77b4;stroke:#1f77b4;\" x=\"226.094318\" xlink:href=\"#mad6b60b173\" y=\"184.621112\"/>\r\n     <use style=\"fill:#1f77b4;stroke:#1f77b4;\" x=\"193.121591\" xlink:href=\"#mad6b60b173\" y=\"203.248927\"/>\r\n     <use style=\"fill:#1f77b4;stroke:#1f77b4;\" x=\"193.121591\" xlink:href=\"#mad6b60b173\" y=\"189.827675\"/>\r\n     <use style=\"fill:#1f77b4;stroke:#1f77b4;\" x=\"241.3125\" xlink:href=\"#mad6b60b173\" y=\"200.549955\"/>\r\n     <use style=\"fill:#1f77b4;stroke:#1f77b4;\" x=\"241.3125\" xlink:href=\"#mad6b60b173\" y=\"182.48647\"/>\r\n     <use style=\"fill:#1f77b4;stroke:#1f77b4;\" x=\"231.167045\" xlink:href=\"#mad6b60b173\" y=\"213.627703\"/>\r\n     <use style=\"fill:#1f77b4;stroke:#1f77b4;\" x=\"231.167045\" xlink:href=\"#mad6b60b173\" y=\"208.769552\"/>\r\n     <use style=\"fill:#1f77b4;stroke:#1f77b4;\" x=\"231.167045\" xlink:href=\"#mad6b60b173\" y=\"208.033469\"/>\r\n     <use style=\"fill:#1f77b4;stroke:#1f77b4;\" x=\"347.839773\" xlink:href=\"#mad6b60b173\" y=\"205.923364\"/>\r\n     <use style=\"fill:#1f77b4;stroke:#1f77b4;\" x=\"347.839773\" xlink:href=\"#mad6b60b173\" y=\"201.114286\"/>\r\n     <use style=\"fill:#1f77b4;stroke:#1f77b4;\" x=\"347.839773\" xlink:href=\"#mad6b60b173\" y=\"196.79593\"/>\r\n     <use style=\"fill:#1f77b4;stroke:#1f77b4;\" x=\"193.121591\" xlink:href=\"#mad6b60b173\" y=\"205.825219\"/>\r\n     <use style=\"fill:#1f77b4;stroke:#1f77b4;\" x=\"188.048864\" xlink:href=\"#mad6b60b173\" y=\"204.549341\"/>\r\n     <use style=\"fill:#1f77b4;stroke:#1f77b4;\" x=\"193.121591\" xlink:href=\"#mad6b60b173\" y=\"201.114286\"/>\r\n     <use style=\"fill:#1f77b4;stroke:#1f77b4;\" x=\"188.048864\" xlink:href=\"#mad6b60b173\" y=\"201.65408\"/>\r\n     <use style=\"fill:#1f77b4;stroke:#1f77b4;\" x=\"193.121591\" xlink:href=\"#mad6b60b173\" y=\"201.899441\"/>\r\n     <use style=\"fill:#1f77b4;stroke:#1f77b4;\" x=\"188.048864\" xlink:href=\"#mad6b60b173\" y=\"198.856963\"/>\r\n     <use style=\"fill:#1f77b4;stroke:#1f77b4;\" x=\"188.048864\" xlink:href=\"#mad6b60b173\" y=\"194.440463\"/>\r\n     <use style=\"fill:#1f77b4;stroke:#1f77b4;\" x=\"182.976136\" xlink:href=\"#mad6b60b173\" y=\"200.32913\"/>\r\n     <use style=\"fill:#1f77b4;stroke:#1f77b4;\" x=\"182.976136\" xlink:href=\"#mad6b60b173\" y=\"199.44583\"/>\r\n     <use style=\"fill:#1f77b4;stroke:#1f77b4;\" x=\"182.976136\" xlink:href=\"#mad6b60b173\" y=\"194.244175\"/>\r\n     <use style=\"fill:#1f77b4;stroke:#1f77b4;\" x=\"182.976136\" xlink:href=\"#mad6b60b173\" y=\"193.066441\"/>\r\n     <use style=\"fill:#1f77b4;stroke:#1f77b4;\" x=\"167.757955\" xlink:href=\"#mad6b60b173\" y=\"198.410406\"/>\r\n     <use style=\"fill:#1f77b4;stroke:#1f77b4;\" x=\"167.757955\" xlink:href=\"#mad6b60b173\" y=\"192.570812\"/>\r\n     <use style=\"fill:#1f77b4;stroke:#1f77b4;\" x=\"167.757955\" xlink:href=\"#mad6b60b173\" y=\"190.853284\"/>\r\n     <use style=\"fill:#1f77b4;stroke:#1f77b4;\" x=\"167.757955\" xlink:href=\"#mad6b60b173\" y=\"184.915545\"/>\r\n     <use style=\"fill:#1f77b4;stroke:#1f77b4;\" x=\"167.757955\" xlink:href=\"#mad6b60b173\" y=\"183.198017\"/>\r\n     <use style=\"fill:#1f77b4;stroke:#1f77b4;\" x=\"193.121591\" xlink:href=\"#mad6b60b173\" y=\"153.165817\"/>\r\n     <use style=\"fill:#1f77b4;stroke:#1f77b4;\" x=\"241.3125\" xlink:href=\"#mad6b60b173\" y=\"195.961702\"/>\r\n     <use style=\"fill:#1f77b4;stroke:#1f77b4;\" x=\"241.3125\" xlink:href=\"#mad6b60b173\" y=\"187.374063\"/>\r\n     <use style=\"fill:#1f77b4;stroke:#1f77b4;\" x=\"215.948864\" xlink:href=\"#mad6b60b173\" y=\"190.858191\"/>\r\n     <use style=\"fill:#1f77b4;stroke:#1f77b4;\" x=\"241.3125\" xlink:href=\"#mad6b60b173\" y=\"186.392619\"/>\r\n     <use style=\"fill:#1f77b4;stroke:#1f77b4;\" x=\"215.948864\" xlink:href=\"#mad6b60b173\" y=\"184.675091\"/>\r\n     <use style=\"fill:#1f77b4;stroke:#1f77b4;\" x=\"167.757955\" xlink:href=\"#mad6b60b173\" y=\"158.617741\"/>\r\n     <use style=\"fill:#1f77b4;stroke:#1f77b4;\" x=\"167.757955\" xlink:href=\"#mad6b60b173\" y=\"161.365785\"/>\r\n     <use style=\"fill:#1f77b4;stroke:#1f77b4;\" x=\"221.021591\" xlink:href=\"#mad6b60b173\" y=\"162.87721\"/>\r\n     <use style=\"fill:#1f77b4;stroke:#1f77b4;\" x=\"221.021591\" xlink:href=\"#mad6b60b173\" y=\"162.582777\"/>\r\n     <use style=\"fill:#1f77b4;stroke:#1f77b4;\" x=\"261.603409\" xlink:href=\"#mad6b60b173\" y=\"201.717874\"/>\r\n     <use style=\"fill:#1f77b4;stroke:#1f77b4;\" x=\"261.603409\" xlink:href=\"#mad6b60b173\" y=\"200.73643\"/>\r\n     <use style=\"fill:#1f77b4;stroke:#1f77b4;\" x=\"261.603409\" xlink:href=\"#mad6b60b173\" y=\"200.638285\"/>\r\n     <use style=\"fill:#1f77b4;stroke:#1f77b4;\" x=\"261.603409\" xlink:href=\"#mad6b60b173\" y=\"199.656841\"/>\r\n     <use style=\"fill:#1f77b4;stroke:#1f77b4;\" x=\"261.603409\" xlink:href=\"#mad6b60b173\" y=\"198.184674\"/>\r\n     <use style=\"fill:#1f77b4;stroke:#1f77b4;\" x=\"261.603409\" xlink:href=\"#mad6b60b173\" y=\"193.277452\"/>\r\n     <use style=\"fill:#1f77b4;stroke:#1f77b4;\" x=\"261.603409\" xlink:href=\"#mad6b60b173\" y=\"190.823841\"/>\r\n     <use style=\"fill:#1f77b4;stroke:#1f77b4;\" x=\"259.067045\" xlink:href=\"#mad6b60b173\" y=\"182.972285\"/>\r\n     <use style=\"fill:#1f77b4;stroke:#1f77b4;\" x=\"152.539773\" xlink:href=\"#mad6b60b173\" y=\"190.897449\"/>\r\n     <use style=\"fill:#1f77b4;stroke:#1f77b4;\" x=\"246.385227\" xlink:href=\"#mad6b60b173\" y=\"174.630007\"/>\r\n     <use style=\"fill:#1f77b4;stroke:#1f77b4;\" x=\"246.385227\" xlink:href=\"#mad6b60b173\" y=\"171.931035\"/>\r\n     <use style=\"fill:#1f77b4;stroke:#1f77b4;\" x=\"246.385227\" xlink:href=\"#mad6b60b173\" y=\"179.561766\"/>\r\n     <use style=\"fill:#1f77b4;stroke:#1f77b4;\" x=\"274.285227\" xlink:href=\"#mad6b60b173\" y=\"176.372071\"/>\r\n     <use style=\"fill:#1f77b4;stroke:#1f77b4;\" x=\"307.257955\" xlink:href=\"#mad6b60b173\" y=\"174.041141\"/>\r\n     <use style=\"fill:#1f77b4;stroke:#1f77b4;\" x=\"274.285227\" xlink:href=\"#mad6b60b173\" y=\"161.429579\"/>\r\n     <use style=\"fill:#1f77b4;stroke:#1f77b4;\" x=\"307.257955\" xlink:href=\"#mad6b60b173\" y=\"158.828751\"/>\r\n     <use style=\"fill:#1f77b4;stroke:#1f77b4;\" x=\"274.285227\" xlink:href=\"#mad6b60b173\" y=\"149.480493\"/>\r\n     <use style=\"fill:#1f77b4;stroke:#1f77b4;\" x=\"307.257955\" xlink:href=\"#mad6b60b173\" y=\"146.879665\"/>\r\n     <use style=\"fill:#1f77b4;stroke:#1f77b4;\" x=\"256.530682\" xlink:href=\"#mad6b60b173\" y=\"157.209368\"/>\r\n     <use style=\"fill:#1f77b4;stroke:#1f77b4;\" x=\"256.530682\" xlink:href=\"#mad6b60b173\" y=\"146.413479\"/>\r\n     <use style=\"fill:#1f77b4;stroke:#1f77b4;\" x=\"256.530682\" xlink:href=\"#mad6b60b173\" y=\"134.439857\"/>\r\n     <use style=\"fill:#1f77b4;stroke:#1f77b4;\" x=\"256.530682\" xlink:href=\"#mad6b60b173\" y=\"129.606243\"/>\r\n     <use style=\"fill:#1f77b4;stroke:#1f77b4;\" x=\"256.530682\" xlink:href=\"#mad6b60b173\" y=\"128.845623\"/>\r\n    </g>\r\n   </g>\r\n   <g id=\"matplotlib.axis_1\">\r\n    <g id=\"xtick_1\">\r\n     <g id=\"line2d_1\">\r\n      <defs>\r\n       <path d=\"M 0 0 \r\nL 0 3.5 \r\n\" id=\"mfd8ee4bb42\" style=\"stroke:#000000;stroke-width:0.8;\"/>\r\n      </defs>\r\n      <g>\r\n       <use style=\"stroke:#000000;stroke-width:0.8;\" x=\"66.303409\" xlink:href=\"#mfd8ee4bb42\" y=\"224.64\"/>\r\n      </g>\r\n     </g>\r\n     <g id=\"text_1\">\r\n      <!-- 48 -->\r\n      <g transform=\"translate(59.940909 239.238438)scale(0.1 -0.1)\">\r\n       <defs>\r\n        <path d=\"M 2419 4116 \r\nL 825 1625 \r\nL 2419 1625 \r\nL 2419 4116 \r\nz\r\nM 2253 4666 \r\nL 3047 4666 \r\nL 3047 1625 \r\nL 3713 1625 \r\nL 3713 1100 \r\nL 3047 1100 \r\nL 3047 0 \r\nL 2419 0 \r\nL 2419 1100 \r\nL 313 1100 \r\nL 313 1709 \r\nL 2253 4666 \r\nz\r\n\" id=\"DejaVuSans-34\" transform=\"scale(0.015625)\"/>\r\n        <path d=\"M 2034 2216 \r\nQ 1584 2216 1326 1975 \r\nQ 1069 1734 1069 1313 \r\nQ 1069 891 1326 650 \r\nQ 1584 409 2034 409 \r\nQ 2484 409 2743 651 \r\nQ 3003 894 3003 1313 \r\nQ 3003 1734 2745 1975 \r\nQ 2488 2216 2034 2216 \r\nz\r\nM 1403 2484 \r\nQ 997 2584 770 2862 \r\nQ 544 3141 544 3541 \r\nQ 544 4100 942 4425 \r\nQ 1341 4750 2034 4750 \r\nQ 2731 4750 3128 4425 \r\nQ 3525 4100 3525 3541 \r\nQ 3525 3141 3298 2862 \r\nQ 3072 2584 2669 2484 \r\nQ 3125 2378 3379 2068 \r\nQ 3634 1759 3634 1313 \r\nQ 3634 634 3220 271 \r\nQ 2806 -91 2034 -91 \r\nQ 1263 -91 848 271 \r\nQ 434 634 434 1313 \r\nQ 434 1759 690 2068 \r\nQ 947 2378 1403 2484 \r\nz\r\nM 1172 3481 \r\nQ 1172 3119 1398 2916 \r\nQ 1625 2713 2034 2713 \r\nQ 2441 2713 2670 2916 \r\nQ 2900 3119 2900 3481 \r\nQ 2900 3844 2670 4047 \r\nQ 2441 4250 2034 4250 \r\nQ 1625 4250 1398 4047 \r\nQ 1172 3844 1172 3481 \r\nz\r\n\" id=\"DejaVuSans-38\" transform=\"scale(0.015625)\"/>\r\n       </defs>\r\n       <use xlink:href=\"#DejaVuSans-34\"/>\r\n       <use x=\"63.623047\" xlink:href=\"#DejaVuSans-38\"/>\r\n      </g>\r\n     </g>\r\n    </g>\r\n    <g id=\"xtick_2\">\r\n     <g id=\"line2d_2\">\r\n      <g>\r\n       <use style=\"stroke:#000000;stroke-width:0.8;\" x=\"117.030682\" xlink:href=\"#mfd8ee4bb42\" y=\"224.64\"/>\r\n      </g>\r\n     </g>\r\n     <g id=\"text_2\">\r\n      <!-- 50 -->\r\n      <g transform=\"translate(110.668182 239.238438)scale(0.1 -0.1)\">\r\n       <defs>\r\n        <path d=\"M 691 4666 \r\nL 3169 4666 \r\nL 3169 4134 \r\nL 1269 4134 \r\nL 1269 2991 \r\nQ 1406 3038 1543 3061 \r\nQ 1681 3084 1819 3084 \r\nQ 2600 3084 3056 2656 \r\nQ 3513 2228 3513 1497 \r\nQ 3513 744 3044 326 \r\nQ 2575 -91 1722 -91 \r\nQ 1428 -91 1123 -41 \r\nQ 819 9 494 109 \r\nL 494 744 \r\nQ 775 591 1075 516 \r\nQ 1375 441 1709 441 \r\nQ 2250 441 2565 725 \r\nQ 2881 1009 2881 1497 \r\nQ 2881 1984 2565 2268 \r\nQ 2250 2553 1709 2553 \r\nQ 1456 2553 1204 2497 \r\nQ 953 2441 691 2322 \r\nL 691 4666 \r\nz\r\n\" id=\"DejaVuSans-35\" transform=\"scale(0.015625)\"/>\r\n        <path d=\"M 2034 4250 \r\nQ 1547 4250 1301 3770 \r\nQ 1056 3291 1056 2328 \r\nQ 1056 1369 1301 889 \r\nQ 1547 409 2034 409 \r\nQ 2525 409 2770 889 \r\nQ 3016 1369 3016 2328 \r\nQ 3016 3291 2770 3770 \r\nQ 2525 4250 2034 4250 \r\nz\r\nM 2034 4750 \r\nQ 2819 4750 3233 4129 \r\nQ 3647 3509 3647 2328 \r\nQ 3647 1150 3233 529 \r\nQ 2819 -91 2034 -91 \r\nQ 1250 -91 836 529 \r\nQ 422 1150 422 2328 \r\nQ 422 3509 836 4129 \r\nQ 1250 4750 2034 4750 \r\nz\r\n\" id=\"DejaVuSans-30\" transform=\"scale(0.015625)\"/>\r\n       </defs>\r\n       <use xlink:href=\"#DejaVuSans-35\"/>\r\n       <use x=\"63.623047\" xlink:href=\"#DejaVuSans-30\"/>\r\n      </g>\r\n     </g>\r\n    </g>\r\n    <g id=\"xtick_3\">\r\n     <g id=\"line2d_3\">\r\n      <g>\r\n       <use style=\"stroke:#000000;stroke-width:0.8;\" x=\"167.757955\" xlink:href=\"#mfd8ee4bb42\" y=\"224.64\"/>\r\n      </g>\r\n     </g>\r\n     <g id=\"text_3\">\r\n      <!-- 52 -->\r\n      <g transform=\"translate(161.395455 239.238438)scale(0.1 -0.1)\">\r\n       <defs>\r\n        <path d=\"M 1228 531 \r\nL 3431 531 \r\nL 3431 0 \r\nL 469 0 \r\nL 469 531 \r\nQ 828 903 1448 1529 \r\nQ 2069 2156 2228 2338 \r\nQ 2531 2678 2651 2914 \r\nQ 2772 3150 2772 3378 \r\nQ 2772 3750 2511 3984 \r\nQ 2250 4219 1831 4219 \r\nQ 1534 4219 1204 4116 \r\nQ 875 4013 500 3803 \r\nL 500 4441 \r\nQ 881 4594 1212 4672 \r\nQ 1544 4750 1819 4750 \r\nQ 2544 4750 2975 4387 \r\nQ 3406 4025 3406 3419 \r\nQ 3406 3131 3298 2873 \r\nQ 3191 2616 2906 2266 \r\nQ 2828 2175 2409 1742 \r\nQ 1991 1309 1228 531 \r\nz\r\n\" id=\"DejaVuSans-32\" transform=\"scale(0.015625)\"/>\r\n       </defs>\r\n       <use xlink:href=\"#DejaVuSans-35\"/>\r\n       <use x=\"63.623047\" xlink:href=\"#DejaVuSans-32\"/>\r\n      </g>\r\n     </g>\r\n    </g>\r\n    <g id=\"xtick_4\">\r\n     <g id=\"line2d_4\">\r\n      <g>\r\n       <use style=\"stroke:#000000;stroke-width:0.8;\" x=\"218.485227\" xlink:href=\"#mfd8ee4bb42\" y=\"224.64\"/>\r\n      </g>\r\n     </g>\r\n     <g id=\"text_4\">\r\n      <!-- 54 -->\r\n      <g transform=\"translate(212.122727 239.238438)scale(0.1 -0.1)\">\r\n       <use xlink:href=\"#DejaVuSans-35\"/>\r\n       <use x=\"63.623047\" xlink:href=\"#DejaVuSans-34\"/>\r\n      </g>\r\n     </g>\r\n    </g>\r\n    <g id=\"xtick_5\">\r\n     <g id=\"line2d_5\">\r\n      <g>\r\n       <use style=\"stroke:#000000;stroke-width:0.8;\" x=\"269.2125\" xlink:href=\"#mfd8ee4bb42\" y=\"224.64\"/>\r\n      </g>\r\n     </g>\r\n     <g id=\"text_5\">\r\n      <!-- 56 -->\r\n      <g transform=\"translate(262.85 239.238438)scale(0.1 -0.1)\">\r\n       <defs>\r\n        <path d=\"M 2113 2584 \r\nQ 1688 2584 1439 2293 \r\nQ 1191 2003 1191 1497 \r\nQ 1191 994 1439 701 \r\nQ 1688 409 2113 409 \r\nQ 2538 409 2786 701 \r\nQ 3034 994 3034 1497 \r\nQ 3034 2003 2786 2293 \r\nQ 2538 2584 2113 2584 \r\nz\r\nM 3366 4563 \r\nL 3366 3988 \r\nQ 3128 4100 2886 4159 \r\nQ 2644 4219 2406 4219 \r\nQ 1781 4219 1451 3797 \r\nQ 1122 3375 1075 2522 \r\nQ 1259 2794 1537 2939 \r\nQ 1816 3084 2150 3084 \r\nQ 2853 3084 3261 2657 \r\nQ 3669 2231 3669 1497 \r\nQ 3669 778 3244 343 \r\nQ 2819 -91 2113 -91 \r\nQ 1303 -91 875 529 \r\nQ 447 1150 447 2328 \r\nQ 447 3434 972 4092 \r\nQ 1497 4750 2381 4750 \r\nQ 2619 4750 2861 4703 \r\nQ 3103 4656 3366 4563 \r\nz\r\n\" id=\"DejaVuSans-36\" transform=\"scale(0.015625)\"/>\r\n       </defs>\r\n       <use xlink:href=\"#DejaVuSans-35\"/>\r\n       <use x=\"63.623047\" xlink:href=\"#DejaVuSans-36\"/>\r\n      </g>\r\n     </g>\r\n    </g>\r\n    <g id=\"xtick_6\">\r\n     <g id=\"line2d_6\">\r\n      <g>\r\n       <use style=\"stroke:#000000;stroke-width:0.8;\" x=\"319.939773\" xlink:href=\"#mfd8ee4bb42\" y=\"224.64\"/>\r\n      </g>\r\n     </g>\r\n     <g id=\"text_6\">\r\n      <!-- 58 -->\r\n      <g transform=\"translate(313.577273 239.238438)scale(0.1 -0.1)\">\r\n       <use xlink:href=\"#DejaVuSans-35\"/>\r\n       <use x=\"63.623047\" xlink:href=\"#DejaVuSans-38\"/>\r\n      </g>\r\n     </g>\r\n    </g>\r\n    <g id=\"xtick_7\">\r\n     <g id=\"line2d_7\">\r\n      <g>\r\n       <use style=\"stroke:#000000;stroke-width:0.8;\" x=\"370.667045\" xlink:href=\"#mfd8ee4bb42\" y=\"224.64\"/>\r\n      </g>\r\n     </g>\r\n     <g id=\"text_7\">\r\n      <!-- 60 -->\r\n      <g transform=\"translate(364.304545 239.238438)scale(0.1 -0.1)\">\r\n       <use xlink:href=\"#DejaVuSans-36\"/>\r\n       <use x=\"63.623047\" xlink:href=\"#DejaVuSans-30\"/>\r\n      </g>\r\n     </g>\r\n    </g>\r\n   </g>\r\n   <g id=\"matplotlib.axis_2\">\r\n    <g id=\"ytick_1\">\r\n     <g id=\"line2d_8\">\r\n      <defs>\r\n       <path d=\"M 0 0 \r\nL -3.5 0 \r\n\" id=\"m6f8f0e48d4\" style=\"stroke:#000000;stroke-width:0.8;\"/>\r\n      </defs>\r\n      <g>\r\n       <use style=\"stroke:#000000;stroke-width:0.8;\" x=\"46.0125\" xlink:href=\"#m6f8f0e48d4\" y=\"215.335416\"/>\r\n      </g>\r\n     </g>\r\n     <g id=\"text_8\">\r\n      <!-- 5000 -->\r\n      <g transform=\"translate(13.5625 219.134635)scale(0.1 -0.1)\">\r\n       <use xlink:href=\"#DejaVuSans-35\"/>\r\n       <use x=\"63.623047\" xlink:href=\"#DejaVuSans-30\"/>\r\n       <use x=\"127.246094\" xlink:href=\"#DejaVuSans-30\"/>\r\n       <use x=\"190.869141\" xlink:href=\"#DejaVuSans-30\"/>\r\n      </g>\r\n     </g>\r\n    </g>\r\n    <g id=\"ytick_2\">\r\n     <g id=\"line2d_9\">\r\n      <g>\r\n       <use style=\"stroke:#000000;stroke-width:0.8;\" x=\"46.0125\" xlink:href=\"#m6f8f0e48d4\" y=\"190.799305\"/>\r\n      </g>\r\n     </g>\r\n     <g id=\"text_9\">\r\n      <!-- 10000 -->\r\n      <g transform=\"translate(7.2 194.598523)scale(0.1 -0.1)\">\r\n       <defs>\r\n        <path d=\"M 794 531 \r\nL 1825 531 \r\nL 1825 4091 \r\nL 703 3866 \r\nL 703 4441 \r\nL 1819 4666 \r\nL 2450 4666 \r\nL 2450 531 \r\nL 3481 531 \r\nL 3481 0 \r\nL 794 0 \r\nL 794 531 \r\nz\r\n\" id=\"DejaVuSans-31\" transform=\"scale(0.015625)\"/>\r\n       </defs>\r\n       <use xlink:href=\"#DejaVuSans-31\"/>\r\n       <use x=\"63.623047\" xlink:href=\"#DejaVuSans-30\"/>\r\n       <use x=\"127.246094\" xlink:href=\"#DejaVuSans-30\"/>\r\n       <use x=\"190.869141\" xlink:href=\"#DejaVuSans-30\"/>\r\n       <use x=\"254.492188\" xlink:href=\"#DejaVuSans-30\"/>\r\n      </g>\r\n     </g>\r\n    </g>\r\n    <g id=\"ytick_3\">\r\n     <g id=\"line2d_10\">\r\n      <g>\r\n       <use style=\"stroke:#000000;stroke-width:0.8;\" x=\"46.0125\" xlink:href=\"#m6f8f0e48d4\" y=\"166.263193\"/>\r\n      </g>\r\n     </g>\r\n     <g id=\"text_10\">\r\n      <!-- 15000 -->\r\n      <g transform=\"translate(7.2 170.062412)scale(0.1 -0.1)\">\r\n       <use xlink:href=\"#DejaVuSans-31\"/>\r\n       <use x=\"63.623047\" xlink:href=\"#DejaVuSans-35\"/>\r\n       <use x=\"127.246094\" xlink:href=\"#DejaVuSans-30\"/>\r\n       <use x=\"190.869141\" xlink:href=\"#DejaVuSans-30\"/>\r\n       <use x=\"254.492188\" xlink:href=\"#DejaVuSans-30\"/>\r\n      </g>\r\n     </g>\r\n    </g>\r\n    <g id=\"ytick_4\">\r\n     <g id=\"line2d_11\">\r\n      <g>\r\n       <use style=\"stroke:#000000;stroke-width:0.8;\" x=\"46.0125\" xlink:href=\"#m6f8f0e48d4\" y=\"141.727082\"/>\r\n      </g>\r\n     </g>\r\n     <g id=\"text_11\">\r\n      <!-- 20000 -->\r\n      <g transform=\"translate(7.2 145.526301)scale(0.1 -0.1)\">\r\n       <use xlink:href=\"#DejaVuSans-32\"/>\r\n       <use x=\"63.623047\" xlink:href=\"#DejaVuSans-30\"/>\r\n       <use x=\"127.246094\" xlink:href=\"#DejaVuSans-30\"/>\r\n       <use x=\"190.869141\" xlink:href=\"#DejaVuSans-30\"/>\r\n       <use x=\"254.492188\" xlink:href=\"#DejaVuSans-30\"/>\r\n      </g>\r\n     </g>\r\n    </g>\r\n    <g id=\"ytick_5\">\r\n     <g id=\"line2d_12\">\r\n      <g>\r\n       <use style=\"stroke:#000000;stroke-width:0.8;\" x=\"46.0125\" xlink:href=\"#m6f8f0e48d4\" y=\"117.190971\"/>\r\n      </g>\r\n     </g>\r\n     <g id=\"text_12\">\r\n      <!-- 25000 -->\r\n      <g transform=\"translate(7.2 120.990189)scale(0.1 -0.1)\">\r\n       <use xlink:href=\"#DejaVuSans-32\"/>\r\n       <use x=\"63.623047\" xlink:href=\"#DejaVuSans-35\"/>\r\n       <use x=\"127.246094\" xlink:href=\"#DejaVuSans-30\"/>\r\n       <use x=\"190.869141\" xlink:href=\"#DejaVuSans-30\"/>\r\n       <use x=\"254.492188\" xlink:href=\"#DejaVuSans-30\"/>\r\n      </g>\r\n     </g>\r\n    </g>\r\n    <g id=\"ytick_6\">\r\n     <g id=\"line2d_13\">\r\n      <g>\r\n       <use style=\"stroke:#000000;stroke-width:0.8;\" x=\"46.0125\" xlink:href=\"#m6f8f0e48d4\" y=\"92.654859\"/>\r\n      </g>\r\n     </g>\r\n     <g id=\"text_13\">\r\n      <!-- 30000 -->\r\n      <g transform=\"translate(7.2 96.454078)scale(0.1 -0.1)\">\r\n       <defs>\r\n        <path d=\"M 2597 2516 \r\nQ 3050 2419 3304 2112 \r\nQ 3559 1806 3559 1356 \r\nQ 3559 666 3084 287 \r\nQ 2609 -91 1734 -91 \r\nQ 1441 -91 1130 -33 \r\nQ 819 25 488 141 \r\nL 488 750 \r\nQ 750 597 1062 519 \r\nQ 1375 441 1716 441 \r\nQ 2309 441 2620 675 \r\nQ 2931 909 2931 1356 \r\nQ 2931 1769 2642 2001 \r\nQ 2353 2234 1838 2234 \r\nL 1294 2234 \r\nL 1294 2753 \r\nL 1863 2753 \r\nQ 2328 2753 2575 2939 \r\nQ 2822 3125 2822 3475 \r\nQ 2822 3834 2567 4026 \r\nQ 2313 4219 1838 4219 \r\nQ 1578 4219 1281 4162 \r\nQ 984 4106 628 3988 \r\nL 628 4550 \r\nQ 988 4650 1302 4700 \r\nQ 1616 4750 1894 4750 \r\nQ 2613 4750 3031 4423 \r\nQ 3450 4097 3450 3541 \r\nQ 3450 3153 3228 2886 \r\nQ 3006 2619 2597 2516 \r\nz\r\n\" id=\"DejaVuSans-33\" transform=\"scale(0.015625)\"/>\r\n       </defs>\r\n       <use xlink:href=\"#DejaVuSans-33\"/>\r\n       <use x=\"63.623047\" xlink:href=\"#DejaVuSans-30\"/>\r\n       <use x=\"127.246094\" xlink:href=\"#DejaVuSans-30\"/>\r\n       <use x=\"190.869141\" xlink:href=\"#DejaVuSans-30\"/>\r\n       <use x=\"254.492188\" xlink:href=\"#DejaVuSans-30\"/>\r\n      </g>\r\n     </g>\r\n    </g>\r\n    <g id=\"ytick_7\">\r\n     <g id=\"line2d_14\">\r\n      <g>\r\n       <use style=\"stroke:#000000;stroke-width:0.8;\" x=\"46.0125\" xlink:href=\"#m6f8f0e48d4\" y=\"68.118748\"/>\r\n      </g>\r\n     </g>\r\n     <g id=\"text_14\">\r\n      <!-- 35000 -->\r\n      <g transform=\"translate(7.2 71.917967)scale(0.1 -0.1)\">\r\n       <use xlink:href=\"#DejaVuSans-33\"/>\r\n       <use x=\"63.623047\" xlink:href=\"#DejaVuSans-35\"/>\r\n       <use x=\"127.246094\" xlink:href=\"#DejaVuSans-30\"/>\r\n       <use x=\"190.869141\" xlink:href=\"#DejaVuSans-30\"/>\r\n       <use x=\"254.492188\" xlink:href=\"#DejaVuSans-30\"/>\r\n      </g>\r\n     </g>\r\n    </g>\r\n    <g id=\"ytick_8\">\r\n     <g id=\"line2d_15\">\r\n      <g>\r\n       <use style=\"stroke:#000000;stroke-width:0.8;\" x=\"46.0125\" xlink:href=\"#m6f8f0e48d4\" y=\"43.582637\"/>\r\n      </g>\r\n     </g>\r\n     <g id=\"text_15\">\r\n      <!-- 40000 -->\r\n      <g transform=\"translate(7.2 47.381855)scale(0.1 -0.1)\">\r\n       <use xlink:href=\"#DejaVuSans-34\"/>\r\n       <use x=\"63.623047\" xlink:href=\"#DejaVuSans-30\"/>\r\n       <use x=\"127.246094\" xlink:href=\"#DejaVuSans-30\"/>\r\n       <use x=\"190.869141\" xlink:href=\"#DejaVuSans-30\"/>\r\n       <use x=\"254.492188\" xlink:href=\"#DejaVuSans-30\"/>\r\n      </g>\r\n     </g>\r\n    </g>\r\n    <g id=\"ytick_9\">\r\n     <g id=\"line2d_16\">\r\n      <g>\r\n       <use style=\"stroke:#000000;stroke-width:0.8;\" x=\"46.0125\" xlink:href=\"#m6f8f0e48d4\" y=\"19.046525\"/>\r\n      </g>\r\n     </g>\r\n     <g id=\"text_16\">\r\n      <!-- 45000 -->\r\n      <g transform=\"translate(7.2 22.845744)scale(0.1 -0.1)\">\r\n       <use xlink:href=\"#DejaVuSans-34\"/>\r\n       <use x=\"63.623047\" xlink:href=\"#DejaVuSans-35\"/>\r\n       <use x=\"127.246094\" xlink:href=\"#DejaVuSans-30\"/>\r\n       <use x=\"190.869141\" xlink:href=\"#DejaVuSans-30\"/>\r\n       <use x=\"254.492188\" xlink:href=\"#DejaVuSans-30\"/>\r\n      </g>\r\n     </g>\r\n    </g>\r\n   </g>\r\n   <g id=\"patch_3\">\r\n    <path d=\"M 46.0125 224.64 \r\nL 46.0125 7.2 \r\n\" style=\"fill:none;stroke:#000000;stroke-linecap:square;stroke-linejoin:miter;stroke-width:0.8;\"/>\r\n   </g>\r\n   <g id=\"patch_4\">\r\n    <path d=\"M 380.8125 224.64 \r\nL 380.8125 7.2 \r\n\" style=\"fill:none;stroke:#000000;stroke-linecap:square;stroke-linejoin:miter;stroke-width:0.8;\"/>\r\n   </g>\r\n   <g id=\"patch_5\">\r\n    <path d=\"M 46.0125 224.64 \r\nL 380.8125 224.64 \r\n\" style=\"fill:none;stroke:#000000;stroke-linecap:square;stroke-linejoin:miter;stroke-width:0.8;\"/>\r\n   </g>\r\n   <g id=\"patch_6\">\r\n    <path d=\"M 46.0125 7.2 \r\nL 380.8125 7.2 \r\n\" style=\"fill:none;stroke:#000000;stroke-linecap:square;stroke-linejoin:miter;stroke-width:0.8;\"/>\r\n   </g>\r\n  </g>\r\n </g>\r\n <defs>\r\n  <clipPath id=\"p2f988f8f38\">\r\n   <rect height=\"217.44\" width=\"334.8\" x=\"46.0125\" y=\"7.2\"/>\r\n  </clipPath>\r\n </defs>\r\n</svg>\r\n",
      "image/png": "[encoded data removed]"
     },
     "metadata": {
      "needs_background": "light"
     }
    }
   ],
   "source": [
    "plt.scatter(df['height'], df['price'])          #scatter plot\n",
    "plt.show"
   ]
  },
  {
   "cell_type": "code",
   "execution_count": null,
   "metadata": {},
   "outputs": [],
   "source": []
  },
  {
   "cell_type": "code",
   "execution_count": null,
   "metadata": {},
   "outputs": [],
   "source": []
  },
  {
   "cell_type": "code",
   "execution_count": 116,
   "metadata": {},
   "outputs": [],
   "source": [
    "theSeries={1:[2,3,4,5,6]}               # Q2-1"
   ]
  },
  {
   "cell_type": "code",
   "execution_count": 118,
   "metadata": {},
   "outputs": [
    {
     "output_type": "execute_result",
     "data": {
      "text/plain": [
       "   1\n",
       "0  2\n",
       "1  3\n",
       "2  4\n",
       "3  5\n",
       "4  6"
      ],
      "text/html": "<div>\n<style scoped>\n    .dataframe tbody tr th:only-of-type {\n        vertical-align: middle;\n    }\n\n    .dataframe tbody tr th {\n        vertical-align: top;\n    }\n\n    .dataframe thead th {\n        text-align: right;\n    }\n</style>\n<table border=\"1\" class=\"dataframe\">\n  <thead>\n    <tr style=\"text-align: right;\">\n      <th></th>\n      <th>1</th>\n    </tr>\n  </thead>\n  <tbody>\n    <tr>\n      <th>0</th>\n      <td>2</td>\n    </tr>\n    <tr>\n      <th>1</th>\n      <td>3</td>\n    </tr>\n    <tr>\n      <th>2</th>\n      <td>4</td>\n    </tr>\n    <tr>\n      <th>3</th>\n      <td>5</td>\n    </tr>\n    <tr>\n      <th>4</th>\n      <td>6</td>\n    </tr>\n  </tbody>\n</table>\n</div>"
     },
     "metadata": {},
     "execution_count": 118
    }
   ],
   "source": [
    "onlyThisSeries = pd.DataFrame(theSeries)\n",
    "onlyThisSeries"
   ]
  },
  {
   "cell_type": "code",
   "execution_count": 130,
   "metadata": {},
   "outputs": [],
   "source": [
    "axis = {                                   # Q2-2\n",
    "'x':[78,85,96,80,86],               \n",
    "'y':[84,94,89,83,86],\n",
    "'z':[86,97,96,72,83],\n",
    "}"
   ]
  },
  {
   "cell_type": "code",
   "execution_count": 135,
   "metadata": {},
   "outputs": [
    {
     "output_type": "execute_result",
     "data": {
      "text/plain": [
       "    x   y   z\n",
       "3  78  84  86\n",
       "4  85  94  97\n",
       "5  96  89  96\n",
       "6  80  83  72\n",
       "7  86  86  83"
      ],
      "text/html": "<div>\n<style scoped>\n    .dataframe tbody tr th:only-of-type {\n        vertical-align: middle;\n    }\n\n    .dataframe tbody tr th {\n        vertical-align: top;\n    }\n\n    .dataframe thead th {\n        text-align: right;\n    }\n</style>\n<table border=\"1\" class=\"dataframe\">\n  <thead>\n    <tr style=\"text-align: right;\">\n      <th></th>\n      <th>x</th>\n      <th>y</th>\n      <th>z</th>\n    </tr>\n  </thead>\n  <tbody>\n    <tr>\n      <th>3</th>\n      <td>78</td>\n      <td>84</td>\n      <td>86</td>\n    </tr>\n    <tr>\n      <th>4</th>\n      <td>85</td>\n      <td>94</td>\n      <td>97</td>\n    </tr>\n    <tr>\n      <th>5</th>\n      <td>96</td>\n      <td>89</td>\n      <td>96</td>\n    </tr>\n    <tr>\n      <th>6</th>\n      <td>80</td>\n      <td>83</td>\n      <td>72</td>\n    </tr>\n    <tr>\n      <th>7</th>\n      <td>86</td>\n      <td>86</td>\n      <td>83</td>\n    </tr>\n  </tbody>\n</table>\n</div>"
     },
     "metadata": {},
     "execution_count": 135
    }
   ],
   "source": [
    "secondTest = pd.DataFrame(axis , index=[3,4,5,6,7])            #i've changed the index\n",
    "secondTest"
   ]
  },
  {
   "cell_type": "code",
   "execution_count": 138,
   "metadata": {},
   "outputs": [
    {
     "output_type": "execute_result",
     "data": {
      "text/plain": [
       "x    80\n",
       "y    83\n",
       "z    72\n",
       "Name: 6, dtype: int64"
      ]
     },
     "metadata": {},
     "execution_count": 138
    }
   ],
   "source": [
    "secondTest.iloc[3]"
   ]
  },
  {
   "cell_type": "code",
   "execution_count": 139,
   "metadata": {},
   "outputs": [
    {
     "output_type": "execute_result",
     "data": {
      "text/plain": [
       "x    78\n",
       "y    84\n",
       "z    86\n",
       "Name: 3, dtype: int64"
      ]
     },
     "metadata": {},
     "execution_count": 139
    }
   ],
   "source": [
    "secondTest.loc[3]"
   ]
  }
 ]
}